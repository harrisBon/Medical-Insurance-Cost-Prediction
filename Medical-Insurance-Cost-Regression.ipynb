{
 "cells": [
  {
   "cell_type": "code",
   "execution_count": 1,
   "id": "d98859ac",
   "metadata": {},
   "outputs": [],
   "source": [
    "import pandas as pd\n",
    "import numpy as np\n",
    "import matplotlib.pyplot as plt\n",
    "import seaborn as sns\n",
    "%matplotlib inline"
   ]
  },
  {
   "cell_type": "code",
   "execution_count": 2,
   "id": "ef46ffbb",
   "metadata": {},
   "outputs": [],
   "source": [
    "df = pd.read_csv(\"insurance.csv\")"
   ]
  },
  {
   "cell_type": "code",
   "execution_count": 3,
   "id": "20a08737",
   "metadata": {},
   "outputs": [
    {
     "data": {
      "text/html": [
       "<div>\n",
       "<style scoped>\n",
       "    .dataframe tbody tr th:only-of-type {\n",
       "        vertical-align: middle;\n",
       "    }\n",
       "\n",
       "    .dataframe tbody tr th {\n",
       "        vertical-align: top;\n",
       "    }\n",
       "\n",
       "    .dataframe thead th {\n",
       "        text-align: right;\n",
       "    }\n",
       "</style>\n",
       "<table border=\"1\" class=\"dataframe\">\n",
       "  <thead>\n",
       "    <tr style=\"text-align: right;\">\n",
       "      <th></th>\n",
       "      <th>age</th>\n",
       "      <th>sex</th>\n",
       "      <th>bmi</th>\n",
       "      <th>children</th>\n",
       "      <th>smoker</th>\n",
       "      <th>region</th>\n",
       "      <th>charges</th>\n",
       "    </tr>\n",
       "  </thead>\n",
       "  <tbody>\n",
       "    <tr>\n",
       "      <th>0</th>\n",
       "      <td>19</td>\n",
       "      <td>female</td>\n",
       "      <td>27.900</td>\n",
       "      <td>0</td>\n",
       "      <td>yes</td>\n",
       "      <td>southwest</td>\n",
       "      <td>16884.92400</td>\n",
       "    </tr>\n",
       "    <tr>\n",
       "      <th>1</th>\n",
       "      <td>18</td>\n",
       "      <td>male</td>\n",
       "      <td>33.770</td>\n",
       "      <td>1</td>\n",
       "      <td>no</td>\n",
       "      <td>southeast</td>\n",
       "      <td>1725.55230</td>\n",
       "    </tr>\n",
       "    <tr>\n",
       "      <th>2</th>\n",
       "      <td>28</td>\n",
       "      <td>male</td>\n",
       "      <td>33.000</td>\n",
       "      <td>3</td>\n",
       "      <td>no</td>\n",
       "      <td>southeast</td>\n",
       "      <td>4449.46200</td>\n",
       "    </tr>\n",
       "    <tr>\n",
       "      <th>3</th>\n",
       "      <td>33</td>\n",
       "      <td>male</td>\n",
       "      <td>22.705</td>\n",
       "      <td>0</td>\n",
       "      <td>no</td>\n",
       "      <td>northwest</td>\n",
       "      <td>21984.47061</td>\n",
       "    </tr>\n",
       "    <tr>\n",
       "      <th>4</th>\n",
       "      <td>32</td>\n",
       "      <td>male</td>\n",
       "      <td>28.880</td>\n",
       "      <td>0</td>\n",
       "      <td>no</td>\n",
       "      <td>northwest</td>\n",
       "      <td>3866.85520</td>\n",
       "    </tr>\n",
       "  </tbody>\n",
       "</table>\n",
       "</div>"
      ],
      "text/plain": [
       "   age     sex     bmi  children smoker     region      charges\n",
       "0   19  female  27.900         0    yes  southwest  16884.92400\n",
       "1   18    male  33.770         1     no  southeast   1725.55230\n",
       "2   28    male  33.000         3     no  southeast   4449.46200\n",
       "3   33    male  22.705         0     no  northwest  21984.47061\n",
       "4   32    male  28.880         0     no  northwest   3866.85520"
      ]
     },
     "execution_count": 3,
     "metadata": {},
     "output_type": "execute_result"
    }
   ],
   "source": [
    "df.head()"
   ]
  },
  {
   "cell_type": "code",
   "execution_count": 4,
   "id": "db891880",
   "metadata": {},
   "outputs": [
    {
     "name": "stdout",
     "output_type": "stream",
     "text": [
      "<class 'pandas.core.frame.DataFrame'>\n",
      "RangeIndex: 1338 entries, 0 to 1337\n",
      "Data columns (total 7 columns):\n",
      " #   Column    Non-Null Count  Dtype  \n",
      "---  ------    --------------  -----  \n",
      " 0   age       1338 non-null   int64  \n",
      " 1   sex       1338 non-null   object \n",
      " 2   bmi       1338 non-null   float64\n",
      " 3   children  1338 non-null   int64  \n",
      " 4   smoker    1338 non-null   object \n",
      " 5   region    1338 non-null   object \n",
      " 6   charges   1338 non-null   float64\n",
      "dtypes: float64(2), int64(2), object(3)\n",
      "memory usage: 73.3+ KB\n"
     ]
    }
   ],
   "source": [
    "df.info()"
   ]
  },
  {
   "cell_type": "code",
   "execution_count": 5,
   "id": "cc199c32",
   "metadata": {},
   "outputs": [
    {
     "data": {
      "text/html": [
       "<div>\n",
       "<style scoped>\n",
       "    .dataframe tbody tr th:only-of-type {\n",
       "        vertical-align: middle;\n",
       "    }\n",
       "\n",
       "    .dataframe tbody tr th {\n",
       "        vertical-align: top;\n",
       "    }\n",
       "\n",
       "    .dataframe thead th {\n",
       "        text-align: right;\n",
       "    }\n",
       "</style>\n",
       "<table border=\"1\" class=\"dataframe\">\n",
       "  <thead>\n",
       "    <tr style=\"text-align: right;\">\n",
       "      <th></th>\n",
       "      <th>age</th>\n",
       "      <th>bmi</th>\n",
       "      <th>children</th>\n",
       "      <th>charges</th>\n",
       "    </tr>\n",
       "  </thead>\n",
       "  <tbody>\n",
       "    <tr>\n",
       "      <th>count</th>\n",
       "      <td>1338.000000</td>\n",
       "      <td>1338.000000</td>\n",
       "      <td>1338.000000</td>\n",
       "      <td>1338.000000</td>\n",
       "    </tr>\n",
       "    <tr>\n",
       "      <th>mean</th>\n",
       "      <td>39.207025</td>\n",
       "      <td>30.663397</td>\n",
       "      <td>1.094918</td>\n",
       "      <td>13270.422265</td>\n",
       "    </tr>\n",
       "    <tr>\n",
       "      <th>std</th>\n",
       "      <td>14.049960</td>\n",
       "      <td>6.098187</td>\n",
       "      <td>1.205493</td>\n",
       "      <td>12110.011237</td>\n",
       "    </tr>\n",
       "    <tr>\n",
       "      <th>min</th>\n",
       "      <td>18.000000</td>\n",
       "      <td>15.960000</td>\n",
       "      <td>0.000000</td>\n",
       "      <td>1121.873900</td>\n",
       "    </tr>\n",
       "    <tr>\n",
       "      <th>25%</th>\n",
       "      <td>27.000000</td>\n",
       "      <td>26.296250</td>\n",
       "      <td>0.000000</td>\n",
       "      <td>4740.287150</td>\n",
       "    </tr>\n",
       "    <tr>\n",
       "      <th>50%</th>\n",
       "      <td>39.000000</td>\n",
       "      <td>30.400000</td>\n",
       "      <td>1.000000</td>\n",
       "      <td>9382.033000</td>\n",
       "    </tr>\n",
       "    <tr>\n",
       "      <th>75%</th>\n",
       "      <td>51.000000</td>\n",
       "      <td>34.693750</td>\n",
       "      <td>2.000000</td>\n",
       "      <td>16639.912515</td>\n",
       "    </tr>\n",
       "    <tr>\n",
       "      <th>max</th>\n",
       "      <td>64.000000</td>\n",
       "      <td>53.130000</td>\n",
       "      <td>5.000000</td>\n",
       "      <td>63770.428010</td>\n",
       "    </tr>\n",
       "  </tbody>\n",
       "</table>\n",
       "</div>"
      ],
      "text/plain": [
       "               age          bmi     children       charges\n",
       "count  1338.000000  1338.000000  1338.000000   1338.000000\n",
       "mean     39.207025    30.663397     1.094918  13270.422265\n",
       "std      14.049960     6.098187     1.205493  12110.011237\n",
       "min      18.000000    15.960000     0.000000   1121.873900\n",
       "25%      27.000000    26.296250     0.000000   4740.287150\n",
       "50%      39.000000    30.400000     1.000000   9382.033000\n",
       "75%      51.000000    34.693750     2.000000  16639.912515\n",
       "max      64.000000    53.130000     5.000000  63770.428010"
      ]
     },
     "execution_count": 5,
     "metadata": {},
     "output_type": "execute_result"
    }
   ],
   "source": [
    "df.describe()"
   ]
  },
  {
   "cell_type": "code",
   "execution_count": 6,
   "id": "dbb3d7de",
   "metadata": {},
   "outputs": [
    {
     "data": {
      "text/html": [
       "<div>\n",
       "<style scoped>\n",
       "    .dataframe tbody tr th:only-of-type {\n",
       "        vertical-align: middle;\n",
       "    }\n",
       "\n",
       "    .dataframe tbody tr th {\n",
       "        vertical-align: top;\n",
       "    }\n",
       "\n",
       "    .dataframe thead th {\n",
       "        text-align: right;\n",
       "    }\n",
       "</style>\n",
       "<table border=\"1\" class=\"dataframe\">\n",
       "  <thead>\n",
       "    <tr style=\"text-align: right;\">\n",
       "      <th></th>\n",
       "      <th>age</th>\n",
       "      <th>bmi</th>\n",
       "      <th>children</th>\n",
       "      <th>charges</th>\n",
       "    </tr>\n",
       "  </thead>\n",
       "  <tbody>\n",
       "    <tr>\n",
       "      <th>age</th>\n",
       "      <td>1.000000</td>\n",
       "      <td>0.109272</td>\n",
       "      <td>0.042469</td>\n",
       "      <td>0.299008</td>\n",
       "    </tr>\n",
       "    <tr>\n",
       "      <th>bmi</th>\n",
       "      <td>0.109272</td>\n",
       "      <td>1.000000</td>\n",
       "      <td>0.012759</td>\n",
       "      <td>0.198341</td>\n",
       "    </tr>\n",
       "    <tr>\n",
       "      <th>children</th>\n",
       "      <td>0.042469</td>\n",
       "      <td>0.012759</td>\n",
       "      <td>1.000000</td>\n",
       "      <td>0.067998</td>\n",
       "    </tr>\n",
       "    <tr>\n",
       "      <th>charges</th>\n",
       "      <td>0.299008</td>\n",
       "      <td>0.198341</td>\n",
       "      <td>0.067998</td>\n",
       "      <td>1.000000</td>\n",
       "    </tr>\n",
       "  </tbody>\n",
       "</table>\n",
       "</div>"
      ],
      "text/plain": [
       "               age       bmi  children   charges\n",
       "age       1.000000  0.109272  0.042469  0.299008\n",
       "bmi       0.109272  1.000000  0.012759  0.198341\n",
       "children  0.042469  0.012759  1.000000  0.067998\n",
       "charges   0.299008  0.198341  0.067998  1.000000"
      ]
     },
     "execution_count": 6,
     "metadata": {},
     "output_type": "execute_result"
    }
   ],
   "source": [
    "df.corr()"
   ]
  },
  {
   "cell_type": "code",
   "execution_count": 7,
   "id": "ac323a09",
   "metadata": {},
   "outputs": [
    {
     "data": {
      "text/html": [
       "<div>\n",
       "<style scoped>\n",
       "    .dataframe tbody tr th:only-of-type {\n",
       "        vertical-align: middle;\n",
       "    }\n",
       "\n",
       "    .dataframe tbody tr th {\n",
       "        vertical-align: top;\n",
       "    }\n",
       "\n",
       "    .dataframe thead th {\n",
       "        text-align: right;\n",
       "    }\n",
       "</style>\n",
       "<table border=\"1\" class=\"dataframe\">\n",
       "  <thead>\n",
       "    <tr style=\"text-align: right;\">\n",
       "      <th></th>\n",
       "      <th>sex</th>\n",
       "      <th>female</th>\n",
       "      <th>male</th>\n",
       "    </tr>\n",
       "  </thead>\n",
       "  <tbody>\n",
       "    <tr>\n",
       "      <th rowspan=\"8\" valign=\"top\">age</th>\n",
       "      <th>count</th>\n",
       "      <td>662.000000</td>\n",
       "      <td>676.000000</td>\n",
       "    </tr>\n",
       "    <tr>\n",
       "      <th>mean</th>\n",
       "      <td>39.503021</td>\n",
       "      <td>38.917160</td>\n",
       "    </tr>\n",
       "    <tr>\n",
       "      <th>std</th>\n",
       "      <td>14.054223</td>\n",
       "      <td>14.050141</td>\n",
       "    </tr>\n",
       "    <tr>\n",
       "      <th>min</th>\n",
       "      <td>18.000000</td>\n",
       "      <td>18.000000</td>\n",
       "    </tr>\n",
       "    <tr>\n",
       "      <th>25%</th>\n",
       "      <td>27.000000</td>\n",
       "      <td>26.000000</td>\n",
       "    </tr>\n",
       "    <tr>\n",
       "      <th>50%</th>\n",
       "      <td>40.000000</td>\n",
       "      <td>39.000000</td>\n",
       "    </tr>\n",
       "    <tr>\n",
       "      <th>75%</th>\n",
       "      <td>51.750000</td>\n",
       "      <td>51.000000</td>\n",
       "    </tr>\n",
       "    <tr>\n",
       "      <th>max</th>\n",
       "      <td>64.000000</td>\n",
       "      <td>64.000000</td>\n",
       "    </tr>\n",
       "    <tr>\n",
       "      <th rowspan=\"8\" valign=\"top\">bmi</th>\n",
       "      <th>count</th>\n",
       "      <td>662.000000</td>\n",
       "      <td>676.000000</td>\n",
       "    </tr>\n",
       "    <tr>\n",
       "      <th>mean</th>\n",
       "      <td>30.377749</td>\n",
       "      <td>30.943129</td>\n",
       "    </tr>\n",
       "    <tr>\n",
       "      <th>std</th>\n",
       "      <td>6.046023</td>\n",
       "      <td>6.140435</td>\n",
       "    </tr>\n",
       "    <tr>\n",
       "      <th>min</th>\n",
       "      <td>16.815000</td>\n",
       "      <td>15.960000</td>\n",
       "    </tr>\n",
       "    <tr>\n",
       "      <th>25%</th>\n",
       "      <td>26.125000</td>\n",
       "      <td>26.410000</td>\n",
       "    </tr>\n",
       "    <tr>\n",
       "      <th>50%</th>\n",
       "      <td>30.107500</td>\n",
       "      <td>30.687500</td>\n",
       "    </tr>\n",
       "    <tr>\n",
       "      <th>75%</th>\n",
       "      <td>34.313750</td>\n",
       "      <td>34.992500</td>\n",
       "    </tr>\n",
       "    <tr>\n",
       "      <th>max</th>\n",
       "      <td>48.070000</td>\n",
       "      <td>53.130000</td>\n",
       "    </tr>\n",
       "    <tr>\n",
       "      <th rowspan=\"8\" valign=\"top\">children</th>\n",
       "      <th>count</th>\n",
       "      <td>662.000000</td>\n",
       "      <td>676.000000</td>\n",
       "    </tr>\n",
       "    <tr>\n",
       "      <th>mean</th>\n",
       "      <td>1.074018</td>\n",
       "      <td>1.115385</td>\n",
       "    </tr>\n",
       "    <tr>\n",
       "      <th>std</th>\n",
       "      <td>1.192115</td>\n",
       "      <td>1.218986</td>\n",
       "    </tr>\n",
       "    <tr>\n",
       "      <th>min</th>\n",
       "      <td>0.000000</td>\n",
       "      <td>0.000000</td>\n",
       "    </tr>\n",
       "    <tr>\n",
       "      <th>25%</th>\n",
       "      <td>0.000000</td>\n",
       "      <td>0.000000</td>\n",
       "    </tr>\n",
       "    <tr>\n",
       "      <th>50%</th>\n",
       "      <td>1.000000</td>\n",
       "      <td>1.000000</td>\n",
       "    </tr>\n",
       "    <tr>\n",
       "      <th>75%</th>\n",
       "      <td>2.000000</td>\n",
       "      <td>2.000000</td>\n",
       "    </tr>\n",
       "    <tr>\n",
       "      <th>max</th>\n",
       "      <td>5.000000</td>\n",
       "      <td>5.000000</td>\n",
       "    </tr>\n",
       "    <tr>\n",
       "      <th rowspan=\"8\" valign=\"top\">charges</th>\n",
       "      <th>count</th>\n",
       "      <td>662.000000</td>\n",
       "      <td>676.000000</td>\n",
       "    </tr>\n",
       "    <tr>\n",
       "      <th>mean</th>\n",
       "      <td>12569.578844</td>\n",
       "      <td>13956.751178</td>\n",
       "    </tr>\n",
       "    <tr>\n",
       "      <th>std</th>\n",
       "      <td>11128.703801</td>\n",
       "      <td>12971.025915</td>\n",
       "    </tr>\n",
       "    <tr>\n",
       "      <th>min</th>\n",
       "      <td>1607.510100</td>\n",
       "      <td>1121.873900</td>\n",
       "    </tr>\n",
       "    <tr>\n",
       "      <th>25%</th>\n",
       "      <td>4885.158700</td>\n",
       "      <td>4619.134000</td>\n",
       "    </tr>\n",
       "    <tr>\n",
       "      <th>50%</th>\n",
       "      <td>9412.962500</td>\n",
       "      <td>9369.615750</td>\n",
       "    </tr>\n",
       "    <tr>\n",
       "      <th>75%</th>\n",
       "      <td>14454.691825</td>\n",
       "      <td>18989.590250</td>\n",
       "    </tr>\n",
       "    <tr>\n",
       "      <th>max</th>\n",
       "      <td>63770.428010</td>\n",
       "      <td>62592.873090</td>\n",
       "    </tr>\n",
       "  </tbody>\n",
       "</table>\n",
       "</div>"
      ],
      "text/plain": [
       "sex                   female          male\n",
       "age      count    662.000000    676.000000\n",
       "         mean      39.503021     38.917160\n",
       "         std       14.054223     14.050141\n",
       "         min       18.000000     18.000000\n",
       "         25%       27.000000     26.000000\n",
       "         50%       40.000000     39.000000\n",
       "         75%       51.750000     51.000000\n",
       "         max       64.000000     64.000000\n",
       "bmi      count    662.000000    676.000000\n",
       "         mean      30.377749     30.943129\n",
       "         std        6.046023      6.140435\n",
       "         min       16.815000     15.960000\n",
       "         25%       26.125000     26.410000\n",
       "         50%       30.107500     30.687500\n",
       "         75%       34.313750     34.992500\n",
       "         max       48.070000     53.130000\n",
       "children count    662.000000    676.000000\n",
       "         mean       1.074018      1.115385\n",
       "         std        1.192115      1.218986\n",
       "         min        0.000000      0.000000\n",
       "         25%        0.000000      0.000000\n",
       "         50%        1.000000      1.000000\n",
       "         75%        2.000000      2.000000\n",
       "         max        5.000000      5.000000\n",
       "charges  count    662.000000    676.000000\n",
       "         mean   12569.578844  13956.751178\n",
       "         std    11128.703801  12971.025915\n",
       "         min     1607.510100   1121.873900\n",
       "         25%     4885.158700   4619.134000\n",
       "         50%     9412.962500   9369.615750\n",
       "         75%    14454.691825  18989.590250\n",
       "         max    63770.428010  62592.873090"
      ]
     },
     "execution_count": 7,
     "metadata": {},
     "output_type": "execute_result"
    }
   ],
   "source": [
    "df.groupby('sex').describe().transpose()"
   ]
  },
  {
   "cell_type": "code",
   "execution_count": 8,
   "id": "e6f3f044",
   "metadata": {},
   "outputs": [
    {
     "data": {
      "text/html": [
       "<div>\n",
       "<style scoped>\n",
       "    .dataframe tbody tr th:only-of-type {\n",
       "        vertical-align: middle;\n",
       "    }\n",
       "\n",
       "    .dataframe tbody tr th {\n",
       "        vertical-align: top;\n",
       "    }\n",
       "\n",
       "    .dataframe thead th {\n",
       "        text-align: right;\n",
       "    }\n",
       "</style>\n",
       "<table border=\"1\" class=\"dataframe\">\n",
       "  <thead>\n",
       "    <tr style=\"text-align: right;\">\n",
       "      <th></th>\n",
       "      <th>region</th>\n",
       "      <th>northeast</th>\n",
       "      <th>northwest</th>\n",
       "      <th>southeast</th>\n",
       "      <th>southwest</th>\n",
       "    </tr>\n",
       "  </thead>\n",
       "  <tbody>\n",
       "    <tr>\n",
       "      <th rowspan=\"8\" valign=\"top\">age</th>\n",
       "      <th>count</th>\n",
       "      <td>324.000000</td>\n",
       "      <td>325.000000</td>\n",
       "      <td>364.000000</td>\n",
       "      <td>325.000000</td>\n",
       "    </tr>\n",
       "    <tr>\n",
       "      <th>mean</th>\n",
       "      <td>39.268519</td>\n",
       "      <td>39.196923</td>\n",
       "      <td>38.939560</td>\n",
       "      <td>39.455385</td>\n",
       "    </tr>\n",
       "    <tr>\n",
       "      <th>std</th>\n",
       "      <td>14.069007</td>\n",
       "      <td>14.051646</td>\n",
       "      <td>14.164585</td>\n",
       "      <td>13.959886</td>\n",
       "    </tr>\n",
       "    <tr>\n",
       "      <th>min</th>\n",
       "      <td>18.000000</td>\n",
       "      <td>19.000000</td>\n",
       "      <td>18.000000</td>\n",
       "      <td>19.000000</td>\n",
       "    </tr>\n",
       "    <tr>\n",
       "      <th>25%</th>\n",
       "      <td>27.000000</td>\n",
       "      <td>26.000000</td>\n",
       "      <td>26.750000</td>\n",
       "      <td>27.000000</td>\n",
       "    </tr>\n",
       "    <tr>\n",
       "      <th>50%</th>\n",
       "      <td>39.500000</td>\n",
       "      <td>39.000000</td>\n",
       "      <td>39.000000</td>\n",
       "      <td>39.000000</td>\n",
       "    </tr>\n",
       "    <tr>\n",
       "      <th>75%</th>\n",
       "      <td>51.000000</td>\n",
       "      <td>51.000000</td>\n",
       "      <td>51.000000</td>\n",
       "      <td>51.000000</td>\n",
       "    </tr>\n",
       "    <tr>\n",
       "      <th>max</th>\n",
       "      <td>64.000000</td>\n",
       "      <td>64.000000</td>\n",
       "      <td>64.000000</td>\n",
       "      <td>64.000000</td>\n",
       "    </tr>\n",
       "    <tr>\n",
       "      <th rowspan=\"8\" valign=\"top\">bmi</th>\n",
       "      <th>count</th>\n",
       "      <td>324.000000</td>\n",
       "      <td>325.000000</td>\n",
       "      <td>364.000000</td>\n",
       "      <td>325.000000</td>\n",
       "    </tr>\n",
       "    <tr>\n",
       "      <th>mean</th>\n",
       "      <td>29.173503</td>\n",
       "      <td>29.199785</td>\n",
       "      <td>33.355989</td>\n",
       "      <td>30.596615</td>\n",
       "    </tr>\n",
       "    <tr>\n",
       "      <th>std</th>\n",
       "      <td>5.937513</td>\n",
       "      <td>5.136765</td>\n",
       "      <td>6.477648</td>\n",
       "      <td>5.691836</td>\n",
       "    </tr>\n",
       "    <tr>\n",
       "      <th>min</th>\n",
       "      <td>15.960000</td>\n",
       "      <td>17.385000</td>\n",
       "      <td>19.800000</td>\n",
       "      <td>17.400000</td>\n",
       "    </tr>\n",
       "    <tr>\n",
       "      <th>25%</th>\n",
       "      <td>24.866250</td>\n",
       "      <td>25.745000</td>\n",
       "      <td>28.572500</td>\n",
       "      <td>26.900000</td>\n",
       "    </tr>\n",
       "    <tr>\n",
       "      <th>50%</th>\n",
       "      <td>28.880000</td>\n",
       "      <td>28.880000</td>\n",
       "      <td>33.330000</td>\n",
       "      <td>30.300000</td>\n",
       "    </tr>\n",
       "    <tr>\n",
       "      <th>75%</th>\n",
       "      <td>32.893750</td>\n",
       "      <td>32.775000</td>\n",
       "      <td>37.812500</td>\n",
       "      <td>34.600000</td>\n",
       "    </tr>\n",
       "    <tr>\n",
       "      <th>max</th>\n",
       "      <td>48.070000</td>\n",
       "      <td>42.940000</td>\n",
       "      <td>53.130000</td>\n",
       "      <td>47.600000</td>\n",
       "    </tr>\n",
       "    <tr>\n",
       "      <th rowspan=\"8\" valign=\"top\">children</th>\n",
       "      <th>count</th>\n",
       "      <td>324.000000</td>\n",
       "      <td>325.000000</td>\n",
       "      <td>364.000000</td>\n",
       "      <td>325.000000</td>\n",
       "    </tr>\n",
       "    <tr>\n",
       "      <th>mean</th>\n",
       "      <td>1.046296</td>\n",
       "      <td>1.147692</td>\n",
       "      <td>1.049451</td>\n",
       "      <td>1.141538</td>\n",
       "    </tr>\n",
       "    <tr>\n",
       "      <th>std</th>\n",
       "      <td>1.198949</td>\n",
       "      <td>1.171828</td>\n",
       "      <td>1.177276</td>\n",
       "      <td>1.275952</td>\n",
       "    </tr>\n",
       "    <tr>\n",
       "      <th>min</th>\n",
       "      <td>0.000000</td>\n",
       "      <td>0.000000</td>\n",
       "      <td>0.000000</td>\n",
       "      <td>0.000000</td>\n",
       "    </tr>\n",
       "    <tr>\n",
       "      <th>25%</th>\n",
       "      <td>0.000000</td>\n",
       "      <td>0.000000</td>\n",
       "      <td>0.000000</td>\n",
       "      <td>0.000000</td>\n",
       "    </tr>\n",
       "    <tr>\n",
       "      <th>50%</th>\n",
       "      <td>1.000000</td>\n",
       "      <td>1.000000</td>\n",
       "      <td>1.000000</td>\n",
       "      <td>1.000000</td>\n",
       "    </tr>\n",
       "    <tr>\n",
       "      <th>75%</th>\n",
       "      <td>2.000000</td>\n",
       "      <td>2.000000</td>\n",
       "      <td>2.000000</td>\n",
       "      <td>2.000000</td>\n",
       "    </tr>\n",
       "    <tr>\n",
       "      <th>max</th>\n",
       "      <td>5.000000</td>\n",
       "      <td>5.000000</td>\n",
       "      <td>5.000000</td>\n",
       "      <td>5.000000</td>\n",
       "    </tr>\n",
       "    <tr>\n",
       "      <th rowspan=\"8\" valign=\"top\">charges</th>\n",
       "      <th>count</th>\n",
       "      <td>324.000000</td>\n",
       "      <td>325.000000</td>\n",
       "      <td>364.000000</td>\n",
       "      <td>325.000000</td>\n",
       "    </tr>\n",
       "    <tr>\n",
       "      <th>mean</th>\n",
       "      <td>13406.384516</td>\n",
       "      <td>12417.575374</td>\n",
       "      <td>14735.411438</td>\n",
       "      <td>12346.937377</td>\n",
       "    </tr>\n",
       "    <tr>\n",
       "      <th>std</th>\n",
       "      <td>11255.803066</td>\n",
       "      <td>11072.276928</td>\n",
       "      <td>13971.098589</td>\n",
       "      <td>11557.179101</td>\n",
       "    </tr>\n",
       "    <tr>\n",
       "      <th>min</th>\n",
       "      <td>1694.796400</td>\n",
       "      <td>1621.340200</td>\n",
       "      <td>1121.873900</td>\n",
       "      <td>1241.565000</td>\n",
       "    </tr>\n",
       "    <tr>\n",
       "      <th>25%</th>\n",
       "      <td>5194.322288</td>\n",
       "      <td>4719.736550</td>\n",
       "      <td>4440.886200</td>\n",
       "      <td>4751.070000</td>\n",
       "    </tr>\n",
       "    <tr>\n",
       "      <th>50%</th>\n",
       "      <td>10057.652025</td>\n",
       "      <td>8965.795750</td>\n",
       "      <td>9294.131950</td>\n",
       "      <td>8798.593000</td>\n",
       "    </tr>\n",
       "    <tr>\n",
       "      <th>75%</th>\n",
       "      <td>16687.364100</td>\n",
       "      <td>14711.743800</td>\n",
       "      <td>19526.286900</td>\n",
       "      <td>13462.520000</td>\n",
       "    </tr>\n",
       "    <tr>\n",
       "      <th>max</th>\n",
       "      <td>58571.074480</td>\n",
       "      <td>60021.398970</td>\n",
       "      <td>63770.428010</td>\n",
       "      <td>52590.829390</td>\n",
       "    </tr>\n",
       "  </tbody>\n",
       "</table>\n",
       "</div>"
      ],
      "text/plain": [
       "region             northeast     northwest     southeast     southwest\n",
       "age      count    324.000000    325.000000    364.000000    325.000000\n",
       "         mean      39.268519     39.196923     38.939560     39.455385\n",
       "         std       14.069007     14.051646     14.164585     13.959886\n",
       "         min       18.000000     19.000000     18.000000     19.000000\n",
       "         25%       27.000000     26.000000     26.750000     27.000000\n",
       "         50%       39.500000     39.000000     39.000000     39.000000\n",
       "         75%       51.000000     51.000000     51.000000     51.000000\n",
       "         max       64.000000     64.000000     64.000000     64.000000\n",
       "bmi      count    324.000000    325.000000    364.000000    325.000000\n",
       "         mean      29.173503     29.199785     33.355989     30.596615\n",
       "         std        5.937513      5.136765      6.477648      5.691836\n",
       "         min       15.960000     17.385000     19.800000     17.400000\n",
       "         25%       24.866250     25.745000     28.572500     26.900000\n",
       "         50%       28.880000     28.880000     33.330000     30.300000\n",
       "         75%       32.893750     32.775000     37.812500     34.600000\n",
       "         max       48.070000     42.940000     53.130000     47.600000\n",
       "children count    324.000000    325.000000    364.000000    325.000000\n",
       "         mean       1.046296      1.147692      1.049451      1.141538\n",
       "         std        1.198949      1.171828      1.177276      1.275952\n",
       "         min        0.000000      0.000000      0.000000      0.000000\n",
       "         25%        0.000000      0.000000      0.000000      0.000000\n",
       "         50%        1.000000      1.000000      1.000000      1.000000\n",
       "         75%        2.000000      2.000000      2.000000      2.000000\n",
       "         max        5.000000      5.000000      5.000000      5.000000\n",
       "charges  count    324.000000    325.000000    364.000000    325.000000\n",
       "         mean   13406.384516  12417.575374  14735.411438  12346.937377\n",
       "         std    11255.803066  11072.276928  13971.098589  11557.179101\n",
       "         min     1694.796400   1621.340200   1121.873900   1241.565000\n",
       "         25%     5194.322288   4719.736550   4440.886200   4751.070000\n",
       "         50%    10057.652025   8965.795750   9294.131950   8798.593000\n",
       "         75%    16687.364100  14711.743800  19526.286900  13462.520000\n",
       "         max    58571.074480  60021.398970  63770.428010  52590.829390"
      ]
     },
     "execution_count": 8,
     "metadata": {},
     "output_type": "execute_result"
    }
   ],
   "source": [
    "df.groupby('region').describe().transpose()"
   ]
  },
  {
   "cell_type": "code",
   "execution_count": 9,
   "id": "072c4334",
   "metadata": {},
   "outputs": [
    {
     "data": {
      "text/html": [
       "<div>\n",
       "<style scoped>\n",
       "    .dataframe tbody tr th:only-of-type {\n",
       "        vertical-align: middle;\n",
       "    }\n",
       "\n",
       "    .dataframe tbody tr th {\n",
       "        vertical-align: top;\n",
       "    }\n",
       "\n",
       "    .dataframe thead th {\n",
       "        text-align: right;\n",
       "    }\n",
       "</style>\n",
       "<table border=\"1\" class=\"dataframe\">\n",
       "  <thead>\n",
       "    <tr style=\"text-align: right;\">\n",
       "      <th></th>\n",
       "      <th>smoker</th>\n",
       "      <th>no</th>\n",
       "      <th>yes</th>\n",
       "    </tr>\n",
       "  </thead>\n",
       "  <tbody>\n",
       "    <tr>\n",
       "      <th rowspan=\"8\" valign=\"top\">age</th>\n",
       "      <th>count</th>\n",
       "      <td>1064.000000</td>\n",
       "      <td>274.000000</td>\n",
       "    </tr>\n",
       "    <tr>\n",
       "      <th>mean</th>\n",
       "      <td>39.385338</td>\n",
       "      <td>38.514599</td>\n",
       "    </tr>\n",
       "    <tr>\n",
       "      <th>std</th>\n",
       "      <td>14.083410</td>\n",
       "      <td>13.923186</td>\n",
       "    </tr>\n",
       "    <tr>\n",
       "      <th>min</th>\n",
       "      <td>18.000000</td>\n",
       "      <td>18.000000</td>\n",
       "    </tr>\n",
       "    <tr>\n",
       "      <th>25%</th>\n",
       "      <td>26.750000</td>\n",
       "      <td>27.000000</td>\n",
       "    </tr>\n",
       "    <tr>\n",
       "      <th>50%</th>\n",
       "      <td>40.000000</td>\n",
       "      <td>38.000000</td>\n",
       "    </tr>\n",
       "    <tr>\n",
       "      <th>75%</th>\n",
       "      <td>52.000000</td>\n",
       "      <td>49.000000</td>\n",
       "    </tr>\n",
       "    <tr>\n",
       "      <th>max</th>\n",
       "      <td>64.000000</td>\n",
       "      <td>64.000000</td>\n",
       "    </tr>\n",
       "    <tr>\n",
       "      <th rowspan=\"8\" valign=\"top\">bmi</th>\n",
       "      <th>count</th>\n",
       "      <td>1064.000000</td>\n",
       "      <td>274.000000</td>\n",
       "    </tr>\n",
       "    <tr>\n",
       "      <th>mean</th>\n",
       "      <td>30.651795</td>\n",
       "      <td>30.708449</td>\n",
       "    </tr>\n",
       "    <tr>\n",
       "      <th>std</th>\n",
       "      <td>6.043111</td>\n",
       "      <td>6.318644</td>\n",
       "    </tr>\n",
       "    <tr>\n",
       "      <th>min</th>\n",
       "      <td>15.960000</td>\n",
       "      <td>17.195000</td>\n",
       "    </tr>\n",
       "    <tr>\n",
       "      <th>25%</th>\n",
       "      <td>26.315000</td>\n",
       "      <td>26.083750</td>\n",
       "    </tr>\n",
       "    <tr>\n",
       "      <th>50%</th>\n",
       "      <td>30.352500</td>\n",
       "      <td>30.447500</td>\n",
       "    </tr>\n",
       "    <tr>\n",
       "      <th>75%</th>\n",
       "      <td>34.430000</td>\n",
       "      <td>35.200000</td>\n",
       "    </tr>\n",
       "    <tr>\n",
       "      <th>max</th>\n",
       "      <td>53.130000</td>\n",
       "      <td>52.580000</td>\n",
       "    </tr>\n",
       "    <tr>\n",
       "      <th rowspan=\"8\" valign=\"top\">children</th>\n",
       "      <th>count</th>\n",
       "      <td>1064.000000</td>\n",
       "      <td>274.000000</td>\n",
       "    </tr>\n",
       "    <tr>\n",
       "      <th>mean</th>\n",
       "      <td>1.090226</td>\n",
       "      <td>1.113139</td>\n",
       "    </tr>\n",
       "    <tr>\n",
       "      <th>std</th>\n",
       "      <td>1.218136</td>\n",
       "      <td>1.157066</td>\n",
       "    </tr>\n",
       "    <tr>\n",
       "      <th>min</th>\n",
       "      <td>0.000000</td>\n",
       "      <td>0.000000</td>\n",
       "    </tr>\n",
       "    <tr>\n",
       "      <th>25%</th>\n",
       "      <td>0.000000</td>\n",
       "      <td>0.000000</td>\n",
       "    </tr>\n",
       "    <tr>\n",
       "      <th>50%</th>\n",
       "      <td>1.000000</td>\n",
       "      <td>1.000000</td>\n",
       "    </tr>\n",
       "    <tr>\n",
       "      <th>75%</th>\n",
       "      <td>2.000000</td>\n",
       "      <td>2.000000</td>\n",
       "    </tr>\n",
       "    <tr>\n",
       "      <th>max</th>\n",
       "      <td>5.000000</td>\n",
       "      <td>5.000000</td>\n",
       "    </tr>\n",
       "    <tr>\n",
       "      <th rowspan=\"8\" valign=\"top\">charges</th>\n",
       "      <th>count</th>\n",
       "      <td>1064.000000</td>\n",
       "      <td>274.000000</td>\n",
       "    </tr>\n",
       "    <tr>\n",
       "      <th>mean</th>\n",
       "      <td>8434.268298</td>\n",
       "      <td>32050.231832</td>\n",
       "    </tr>\n",
       "    <tr>\n",
       "      <th>std</th>\n",
       "      <td>5993.781819</td>\n",
       "      <td>11541.547176</td>\n",
       "    </tr>\n",
       "    <tr>\n",
       "      <th>min</th>\n",
       "      <td>1121.873900</td>\n",
       "      <td>12829.455100</td>\n",
       "    </tr>\n",
       "    <tr>\n",
       "      <th>25%</th>\n",
       "      <td>3986.438700</td>\n",
       "      <td>20826.244213</td>\n",
       "    </tr>\n",
       "    <tr>\n",
       "      <th>50%</th>\n",
       "      <td>7345.405300</td>\n",
       "      <td>34456.348450</td>\n",
       "    </tr>\n",
       "    <tr>\n",
       "      <th>75%</th>\n",
       "      <td>11362.887050</td>\n",
       "      <td>41019.207275</td>\n",
       "    </tr>\n",
       "    <tr>\n",
       "      <th>max</th>\n",
       "      <td>36910.608030</td>\n",
       "      <td>63770.428010</td>\n",
       "    </tr>\n",
       "  </tbody>\n",
       "</table>\n",
       "</div>"
      ],
      "text/plain": [
       "smoker                    no           yes\n",
       "age      count   1064.000000    274.000000\n",
       "         mean      39.385338     38.514599\n",
       "         std       14.083410     13.923186\n",
       "         min       18.000000     18.000000\n",
       "         25%       26.750000     27.000000\n",
       "         50%       40.000000     38.000000\n",
       "         75%       52.000000     49.000000\n",
       "         max       64.000000     64.000000\n",
       "bmi      count   1064.000000    274.000000\n",
       "         mean      30.651795     30.708449\n",
       "         std        6.043111      6.318644\n",
       "         min       15.960000     17.195000\n",
       "         25%       26.315000     26.083750\n",
       "         50%       30.352500     30.447500\n",
       "         75%       34.430000     35.200000\n",
       "         max       53.130000     52.580000\n",
       "children count   1064.000000    274.000000\n",
       "         mean       1.090226      1.113139\n",
       "         std        1.218136      1.157066\n",
       "         min        0.000000      0.000000\n",
       "         25%        0.000000      0.000000\n",
       "         50%        1.000000      1.000000\n",
       "         75%        2.000000      2.000000\n",
       "         max        5.000000      5.000000\n",
       "charges  count   1064.000000    274.000000\n",
       "         mean    8434.268298  32050.231832\n",
       "         std     5993.781819  11541.547176\n",
       "         min     1121.873900  12829.455100\n",
       "         25%     3986.438700  20826.244213\n",
       "         50%     7345.405300  34456.348450\n",
       "         75%    11362.887050  41019.207275\n",
       "         max    36910.608030  63770.428010"
      ]
     },
     "execution_count": 9,
     "metadata": {},
     "output_type": "execute_result"
    }
   ],
   "source": [
    "df.groupby('smoker').describe().transpose()"
   ]
  },
  {
   "cell_type": "code",
   "execution_count": 10,
   "id": "c92ac2f0",
   "metadata": {},
   "outputs": [
    {
     "data": {
      "text/plain": [
       "<seaborn.axisgrid.PairGrid at 0x2043b41a0d0>"
      ]
     },
     "execution_count": 10,
     "metadata": {},
     "output_type": "execute_result"
    },
    {
     "data": {
      "image/png": "[encoded data removed]",
      "text/plain": [
       "<Figure size 773.25x720 with 20 Axes>"
      ]
     },
     "metadata": {
      "needs_background": "light"
     },
     "output_type": "display_data"
    }
   ],
   "source": [
    "# We see that the charges are significantly higher for people who smoke\n",
    "sns.pairplot(df,hue='smoker')"
   ]
  },
  {
   "cell_type": "code",
   "execution_count": 11,
   "id": "6c275ae4",
   "metadata": {},
   "outputs": [
    {
     "data": {
      "text/plain": [
       "age         0\n",
       "sex         0\n",
       "bmi         0\n",
       "children    0\n",
       "smoker      0\n",
       "region      0\n",
       "charges     0\n",
       "dtype: int64"
      ]
     },
     "execution_count": 11,
     "metadata": {},
     "output_type": "execute_result"
    }
   ],
   "source": [
    "df.isnull().sum()"
   ]
  },
  {
   "cell_type": "code",
   "execution_count": 12,
   "id": "467ac399",
   "metadata": {},
   "outputs": [
    {
     "data": {
      "text/plain": [
       "Index(['age', 'bmi', 'children', 'smoker', 'region', 'charges', 'male'], dtype='object')"
      ]
     },
     "execution_count": 12,
     "metadata": {},
     "output_type": "execute_result"
    }
   ],
   "source": [
    "# change our object types\n",
    "sex_dummies = pd.get_dummies(df['sex'],drop_first=True)\n",
    "df = pd.concat([df.drop('sex',axis=1),sex_dummies],axis=1)\n",
    "df.columns"
   ]
  },
  {
   "cell_type": "code",
   "execution_count": 13,
   "id": "7c27ed60",
   "metadata": {},
   "outputs": [
    {
     "data": {
      "text/plain": [
       "Index(['age', 'bmi', 'children', 'smoker', 'charges', 'male', 'northwest',\n",
       "       'southeast', 'southwest'],\n",
       "      dtype='object')"
      ]
     },
     "execution_count": 13,
     "metadata": {},
     "output_type": "execute_result"
    }
   ],
   "source": [
    "region_dummies = pd.get_dummies(df['region'],drop_first=True)\n",
    "df = pd.concat([df.drop('region',axis=1),region_dummies],axis=1)\n",
    "df.columns"
   ]
  },
  {
   "cell_type": "code",
   "execution_count": 14,
   "id": "9d82f455",
   "metadata": {},
   "outputs": [
    {
     "data": {
      "text/plain": [
       "Index(['age', 'bmi', 'children', 'charges', 'male', 'northwest', 'southeast',\n",
       "       'southwest', 'yes'],\n",
       "      dtype='object')"
      ]
     },
     "execution_count": 14,
     "metadata": {},
     "output_type": "execute_result"
    }
   ],
   "source": [
    "smoker_dummies = pd.get_dummies(df['smoker'],drop_first=True)\n",
    "df = pd.concat([df.drop('smoker',axis=1),smoker_dummies],axis=1)\n",
    "df.columns"
   ]
  },
  {
   "cell_type": "code",
   "execution_count": 15,
   "id": "f894a453",
   "metadata": {},
   "outputs": [
    {
     "data": {
      "text/html": [
       "<div>\n",
       "<style scoped>\n",
       "    .dataframe tbody tr th:only-of-type {\n",
       "        vertical-align: middle;\n",
       "    }\n",
       "\n",
       "    .dataframe tbody tr th {\n",
       "        vertical-align: top;\n",
       "    }\n",
       "\n",
       "    .dataframe thead th {\n",
       "        text-align: right;\n",
       "    }\n",
       "</style>\n",
       "<table border=\"1\" class=\"dataframe\">\n",
       "  <thead>\n",
       "    <tr style=\"text-align: right;\">\n",
       "      <th></th>\n",
       "      <th>age</th>\n",
       "      <th>bmi</th>\n",
       "      <th>children</th>\n",
       "      <th>charges</th>\n",
       "      <th>male</th>\n",
       "      <th>northwest</th>\n",
       "      <th>southeast</th>\n",
       "      <th>southwest</th>\n",
       "      <th>yes</th>\n",
       "    </tr>\n",
       "  </thead>\n",
       "  <tbody>\n",
       "    <tr>\n",
       "      <th>age</th>\n",
       "      <td>1.000000</td>\n",
       "      <td>0.109272</td>\n",
       "      <td>0.042469</td>\n",
       "      <td>0.299008</td>\n",
       "      <td>-0.020856</td>\n",
       "      <td>-0.000407</td>\n",
       "      <td>-0.011642</td>\n",
       "      <td>0.010016</td>\n",
       "      <td>-0.025019</td>\n",
       "    </tr>\n",
       "    <tr>\n",
       "      <th>bmi</th>\n",
       "      <td>0.109272</td>\n",
       "      <td>1.000000</td>\n",
       "      <td>0.012759</td>\n",
       "      <td>0.198341</td>\n",
       "      <td>0.046371</td>\n",
       "      <td>-0.135996</td>\n",
       "      <td>0.270025</td>\n",
       "      <td>-0.006205</td>\n",
       "      <td>0.003750</td>\n",
       "    </tr>\n",
       "    <tr>\n",
       "      <th>children</th>\n",
       "      <td>0.042469</td>\n",
       "      <td>0.012759</td>\n",
       "      <td>1.000000</td>\n",
       "      <td>0.067998</td>\n",
       "      <td>0.017163</td>\n",
       "      <td>0.024806</td>\n",
       "      <td>-0.023066</td>\n",
       "      <td>0.021914</td>\n",
       "      <td>0.007673</td>\n",
       "    </tr>\n",
       "    <tr>\n",
       "      <th>charges</th>\n",
       "      <td>0.299008</td>\n",
       "      <td>0.198341</td>\n",
       "      <td>0.067998</td>\n",
       "      <td>1.000000</td>\n",
       "      <td>0.057292</td>\n",
       "      <td>-0.039905</td>\n",
       "      <td>0.073982</td>\n",
       "      <td>-0.043210</td>\n",
       "      <td>0.787251</td>\n",
       "    </tr>\n",
       "    <tr>\n",
       "      <th>male</th>\n",
       "      <td>-0.020856</td>\n",
       "      <td>0.046371</td>\n",
       "      <td>0.017163</td>\n",
       "      <td>0.057292</td>\n",
       "      <td>1.000000</td>\n",
       "      <td>-0.011156</td>\n",
       "      <td>0.017117</td>\n",
       "      <td>-0.004184</td>\n",
       "      <td>0.076185</td>\n",
       "    </tr>\n",
       "    <tr>\n",
       "      <th>northwest</th>\n",
       "      <td>-0.000407</td>\n",
       "      <td>-0.135996</td>\n",
       "      <td>0.024806</td>\n",
       "      <td>-0.039905</td>\n",
       "      <td>-0.011156</td>\n",
       "      <td>1.000000</td>\n",
       "      <td>-0.346265</td>\n",
       "      <td>-0.320829</td>\n",
       "      <td>-0.036945</td>\n",
       "    </tr>\n",
       "    <tr>\n",
       "      <th>southeast</th>\n",
       "      <td>-0.011642</td>\n",
       "      <td>0.270025</td>\n",
       "      <td>-0.023066</td>\n",
       "      <td>0.073982</td>\n",
       "      <td>0.017117</td>\n",
       "      <td>-0.346265</td>\n",
       "      <td>1.000000</td>\n",
       "      <td>-0.346265</td>\n",
       "      <td>0.068498</td>\n",
       "    </tr>\n",
       "    <tr>\n",
       "      <th>southwest</th>\n",
       "      <td>0.010016</td>\n",
       "      <td>-0.006205</td>\n",
       "      <td>0.021914</td>\n",
       "      <td>-0.043210</td>\n",
       "      <td>-0.004184</td>\n",
       "      <td>-0.320829</td>\n",
       "      <td>-0.346265</td>\n",
       "      <td>1.000000</td>\n",
       "      <td>-0.036945</td>\n",
       "    </tr>\n",
       "    <tr>\n",
       "      <th>yes</th>\n",
       "      <td>-0.025019</td>\n",
       "      <td>0.003750</td>\n",
       "      <td>0.007673</td>\n",
       "      <td>0.787251</td>\n",
       "      <td>0.076185</td>\n",
       "      <td>-0.036945</td>\n",
       "      <td>0.068498</td>\n",
       "      <td>-0.036945</td>\n",
       "      <td>1.000000</td>\n",
       "    </tr>\n",
       "  </tbody>\n",
       "</table>\n",
       "</div>"
      ],
      "text/plain": [
       "                age       bmi  children   charges      male  northwest  \\\n",
       "age        1.000000  0.109272  0.042469  0.299008 -0.020856  -0.000407   \n",
       "bmi        0.109272  1.000000  0.012759  0.198341  0.046371  -0.135996   \n",
       "children   0.042469  0.012759  1.000000  0.067998  0.017163   0.024806   \n",
       "charges    0.299008  0.198341  0.067998  1.000000  0.057292  -0.039905   \n",
       "male      -0.020856  0.046371  0.017163  0.057292  1.000000  -0.011156   \n",
       "northwest -0.000407 -0.135996  0.024806 -0.039905 -0.011156   1.000000   \n",
       "southeast -0.011642  0.270025 -0.023066  0.073982  0.017117  -0.346265   \n",
       "southwest  0.010016 -0.006205  0.021914 -0.043210 -0.004184  -0.320829   \n",
       "yes       -0.025019  0.003750  0.007673  0.787251  0.076185  -0.036945   \n",
       "\n",
       "           southeast  southwest       yes  \n",
       "age        -0.011642   0.010016 -0.025019  \n",
       "bmi         0.270025  -0.006205  0.003750  \n",
       "children   -0.023066   0.021914  0.007673  \n",
       "charges     0.073982  -0.043210  0.787251  \n",
       "male        0.017117  -0.004184  0.076185  \n",
       "northwest  -0.346265  -0.320829 -0.036945  \n",
       "southeast   1.000000  -0.346265  0.068498  \n",
       "southwest  -0.346265   1.000000 -0.036945  \n",
       "yes         0.068498  -0.036945  1.000000  "
      ]
     },
     "execution_count": 15,
     "metadata": {},
     "output_type": "execute_result"
    }
   ],
   "source": [
    "df.corr()"
   ]
  },
  {
   "cell_type": "code",
   "execution_count": 16,
   "id": "14c3b28e",
   "metadata": {},
   "outputs": [
    {
     "data": {
      "text/plain": [
       "<AxesSubplot:>"
      ]
     },
     "execution_count": 16,
     "metadata": {},
     "output_type": "execute_result"
    },
    {
     "data": {
      "image/png": "[encoded data removed]",
      "text/plain": [
       "<Figure size 864x504 with 2 Axes>"
      ]
     },
     "metadata": {
      "needs_background": "light"
     },
     "output_type": "display_data"
    }
   ],
   "source": [
    "plt.figure(figsize=(12,7))\n",
    "sns.heatmap(df.corr(),annot=True,cmap='viridis')"
   ]
  },
  {
   "cell_type": "code",
   "execution_count": 17,
   "id": "ab56cb9f",
   "metadata": {},
   "outputs": [
    {
     "data": {
      "text/html": [
       "<div>\n",
       "<style scoped>\n",
       "    .dataframe tbody tr th:only-of-type {\n",
       "        vertical-align: middle;\n",
       "    }\n",
       "\n",
       "    .dataframe tbody tr th {\n",
       "        vertical-align: top;\n",
       "    }\n",
       "\n",
       "    .dataframe thead th {\n",
       "        text-align: right;\n",
       "    }\n",
       "</style>\n",
       "<table border=\"1\" class=\"dataframe\">\n",
       "  <thead>\n",
       "    <tr style=\"text-align: right;\">\n",
       "      <th></th>\n",
       "      <th>age</th>\n",
       "      <th>bmi</th>\n",
       "      <th>children</th>\n",
       "      <th>charges</th>\n",
       "      <th>male</th>\n",
       "      <th>northwest</th>\n",
       "      <th>southeast</th>\n",
       "      <th>southwest</th>\n",
       "      <th>yes</th>\n",
       "    </tr>\n",
       "  </thead>\n",
       "  <tbody>\n",
       "    <tr>\n",
       "      <th>0</th>\n",
       "      <td>19</td>\n",
       "      <td>27.900</td>\n",
       "      <td>0</td>\n",
       "      <td>16884.92400</td>\n",
       "      <td>0</td>\n",
       "      <td>0</td>\n",
       "      <td>0</td>\n",
       "      <td>1</td>\n",
       "      <td>1</td>\n",
       "    </tr>\n",
       "    <tr>\n",
       "      <th>1</th>\n",
       "      <td>18</td>\n",
       "      <td>33.770</td>\n",
       "      <td>1</td>\n",
       "      <td>1725.55230</td>\n",
       "      <td>1</td>\n",
       "      <td>0</td>\n",
       "      <td>1</td>\n",
       "      <td>0</td>\n",
       "      <td>0</td>\n",
       "    </tr>\n",
       "    <tr>\n",
       "      <th>2</th>\n",
       "      <td>28</td>\n",
       "      <td>33.000</td>\n",
       "      <td>3</td>\n",
       "      <td>4449.46200</td>\n",
       "      <td>1</td>\n",
       "      <td>0</td>\n",
       "      <td>1</td>\n",
       "      <td>0</td>\n",
       "      <td>0</td>\n",
       "    </tr>\n",
       "    <tr>\n",
       "      <th>3</th>\n",
       "      <td>33</td>\n",
       "      <td>22.705</td>\n",
       "      <td>0</td>\n",
       "      <td>21984.47061</td>\n",
       "      <td>1</td>\n",
       "      <td>1</td>\n",
       "      <td>0</td>\n",
       "      <td>0</td>\n",
       "      <td>0</td>\n",
       "    </tr>\n",
       "    <tr>\n",
       "      <th>4</th>\n",
       "      <td>32</td>\n",
       "      <td>28.880</td>\n",
       "      <td>0</td>\n",
       "      <td>3866.85520</td>\n",
       "      <td>1</td>\n",
       "      <td>1</td>\n",
       "      <td>0</td>\n",
       "      <td>0</td>\n",
       "      <td>0</td>\n",
       "    </tr>\n",
       "  </tbody>\n",
       "</table>\n",
       "</div>"
      ],
      "text/plain": [
       "   age     bmi  children      charges  male  northwest  southeast  southwest  \\\n",
       "0   19  27.900         0  16884.92400     0          0          0          1   \n",
       "1   18  33.770         1   1725.55230     1          0          1          0   \n",
       "2   28  33.000         3   4449.46200     1          0          1          0   \n",
       "3   33  22.705         0  21984.47061     1          1          0          0   \n",
       "4   32  28.880         0   3866.85520     1          1          0          0   \n",
       "\n",
       "   yes  \n",
       "0    1  \n",
       "1    0  \n",
       "2    0  \n",
       "3    0  \n",
       "4    0  "
      ]
     },
     "execution_count": 17,
     "metadata": {},
     "output_type": "execute_result"
    }
   ],
   "source": [
    "df.head()"
   ]
  },
  {
   "cell_type": "code",
   "execution_count": 18,
   "id": "7e4a9822",
   "metadata": {},
   "outputs": [],
   "source": [
    "# Again we see that there is a high correlation with people that smoke and charges\n",
    "# We are going to scale and then train our model\n",
    "y=df['charges']\n",
    "X=df.drop('charges',axis=1)\n",
    "from sklearn.preprocessing import MinMaxScaler\n",
    "scaler = MinMaxScaler()"
   ]
  },
  {
   "cell_type": "code",
   "execution_count": 19,
   "id": "b1b328ee",
   "metadata": {},
   "outputs": [],
   "source": [
    "from sklearn.model_selection import train_test_split"
   ]
  },
  {
   "cell_type": "code",
   "execution_count": 20,
   "id": "41806635",
   "metadata": {},
   "outputs": [],
   "source": [
    "X_train, X_test, y_train, y_test = train_test_split(X, y, test_size=0.3, random_state=77)"
   ]
  },
  {
   "cell_type": "code",
   "execution_count": 21,
   "id": "b2e88525",
   "metadata": {},
   "outputs": [],
   "source": [
    "X_train= scaler.fit_transform(X_train)\n",
    "X_test = scaler.transform(X_test)"
   ]
  },
  {
   "cell_type": "code",
   "execution_count": 22,
   "id": "6ccaa669",
   "metadata": {},
   "outputs": [
    {
     "data": {
      "text/plain": [
       "((936, 8), (402, 8))"
      ]
     },
     "execution_count": 22,
     "metadata": {},
     "output_type": "execute_result"
    }
   ],
   "source": [
    "X_train.shape , X_test.shape"
   ]
  },
  {
   "cell_type": "code",
   "execution_count": 23,
   "id": "39253693",
   "metadata": {},
   "outputs": [],
   "source": [
    "#Linear Regression\n",
    "from sklearn.linear_model import LinearRegression"
   ]
  },
  {
   "cell_type": "code",
   "execution_count": 24,
   "id": "35db8263",
   "metadata": {},
   "outputs": [],
   "source": [
    "lm = LinearRegression()"
   ]
  },
  {
   "cell_type": "code",
   "execution_count": 25,
   "id": "9ebefc96",
   "metadata": {},
   "outputs": [
    {
     "data": {
      "text/plain": [
       "LinearRegression()"
      ]
     },
     "execution_count": 25,
     "metadata": {},
     "output_type": "execute_result"
    }
   ],
   "source": [
    "lm.fit(X_train,y_train)"
   ]
  },
  {
   "cell_type": "code",
   "execution_count": 26,
   "id": "34728dd0",
   "metadata": {},
   "outputs": [],
   "source": [
    "predictionslm = lm.predict( X_test)"
   ]
  },
  {
   "cell_type": "code",
   "execution_count": 27,
   "id": "1c20a08d",
   "metadata": {},
   "outputs": [
    {
     "data": {
      "text/plain": [
       "Text(0, 0.5, 'Predicted Y')"
      ]
     },
     "execution_count": 27,
     "metadata": {},
     "output_type": "execute_result"
    },
    {
     "data": {
      "image/png": "[encoded data removed]",
      "text/plain": [
       "<Figure size 432x288 with 1 Axes>"
      ]
     },
     "metadata": {
      "needs_background": "light"
     },
     "output_type": "display_data"
    }
   ],
   "source": [
    "plt.scatter(y_test,predictionslm)\n",
    "plt.xlabel('Y Test')\n",
    "plt.ylabel('Predicted Y')"
   ]
  },
  {
   "cell_type": "code",
   "execution_count": 28,
   "id": "c2607a89",
   "metadata": {},
   "outputs": [
    {
     "name": "stdout",
     "output_type": "stream",
     "text": [
      "MAE: 4045.0637658049877\n",
      "MSE: 35986626.205332674\n",
      "RMSE: 5998.885413585816\n",
      "EVS: 0.7462340000034081\n"
     ]
    }
   ],
   "source": [
    "from sklearn import metrics\n",
    "\n",
    "print('MAE:', metrics.mean_absolute_error(y_test, predictionslm))\n",
    "print('MSE:', metrics.mean_squared_error(y_test, predictionslm))\n",
    "print('RMSE:', np.sqrt(metrics.mean_squared_error(y_test, predictionslm)))\n",
    "print('EVS:',  metrics.explained_variance_score(y_test, predictionslm))"
   ]
  },
  {
   "cell_type": "code",
   "execution_count": 29,
   "id": "09a163bf",
   "metadata": {},
   "outputs": [
    {
     "name": "stderr",
     "output_type": "stream",
     "text": [
      "C:\\Users\\harry\\anaconda3\\lib\\site-packages\\seaborn\\distributions.py:2557: FutureWarning: `distplot` is a deprecated function and will be removed in a future version. Please adapt your code to use either `displot` (a figure-level function with similar flexibility) or `histplot` (an axes-level function for histograms).\n",
      "  warnings.warn(msg, FutureWarning)\n"
     ]
    },
    {
     "data": {
      "image/png": "[encoded data removed]",
      "text/plain": [
       "<Figure size 432x288 with 1 Axes>"
      ]
     },
     "metadata": {
      "needs_background": "light"
     },
     "output_type": "display_data"
    }
   ],
   "source": [
    "sns.distplot((y_test-predictionslm),bins=50);"
   ]
  },
  {
   "cell_type": "code",
   "execution_count": 30,
   "id": "a84f86d9",
   "metadata": {},
   "outputs": [],
   "source": [
    "# Decision Tree\n",
    "from sklearn.tree import DecisionTreeRegressor"
   ]
  },
  {
   "cell_type": "code",
   "execution_count": 31,
   "id": "6148abc2",
   "metadata": {},
   "outputs": [],
   "source": [
    "dtree = DecisionTreeRegressor()"
   ]
  },
  {
   "cell_type": "code",
   "execution_count": 32,
   "id": "f41cc028",
   "metadata": {},
   "outputs": [
    {
     "data": {
      "text/plain": [
       "DecisionTreeRegressor()"
      ]
     },
     "execution_count": 32,
     "metadata": {},
     "output_type": "execute_result"
    }
   ],
   "source": [
    "dtree.fit(X_train,y_train)"
   ]
  },
  {
   "cell_type": "code",
   "execution_count": 33,
   "id": "4cf7f09f",
   "metadata": {},
   "outputs": [],
   "source": [
    "predictionstree = dtree.predict(X_test)"
   ]
  },
  {
   "cell_type": "code",
   "execution_count": 34,
   "id": "44016749",
   "metadata": {},
   "outputs": [
    {
     "data": {
      "text/plain": [
       "Text(0, 0.5, 'Predicted Y')"
      ]
     },
     "execution_count": 34,
     "metadata": {},
     "output_type": "execute_result"
    },
    {
     "data": {
      "image/png": "[encoded data removed]",
      "text/plain": [
       "<Figure size 432x288 with 1 Axes>"
      ]
     },
     "metadata": {
      "needs_background": "light"
     },
     "output_type": "display_data"
    }
   ],
   "source": [
    "plt.scatter(y_test,predictionstree)\n",
    "plt.xlabel('Y Test')\n",
    "plt.ylabel('Predicted Y')"
   ]
  },
  {
   "cell_type": "code",
   "execution_count": 35,
   "id": "56a02941",
   "metadata": {},
   "outputs": [
    {
     "name": "stdout",
     "output_type": "stream",
     "text": [
      "MAE: 3231.567193654229\n",
      "MSE: 44645443.54956736\n",
      "RMSE: 6681.724593962801\n",
      "EVS: 0.684211365464658\n"
     ]
    }
   ],
   "source": [
    "print('MAE:', metrics.mean_absolute_error(y_test, predictionstree))\n",
    "print('MSE:', metrics.mean_squared_error(y_test, predictionstree))\n",
    "print('RMSE:', np.sqrt(metrics.mean_squared_error(y_test, predictionstree)))\n",
    "print('EVS:',  metrics.r2_score(y_test, predictionstree))"
   ]
  },
  {
   "cell_type": "code",
   "execution_count": 36,
   "id": "1a24960c",
   "metadata": {},
   "outputs": [
    {
     "name": "stderr",
     "output_type": "stream",
     "text": [
      "C:\\Users\\harry\\anaconda3\\lib\\site-packages\\seaborn\\distributions.py:2557: FutureWarning: `distplot` is a deprecated function and will be removed in a future version. Please adapt your code to use either `displot` (a figure-level function with similar flexibility) or `histplot` (an axes-level function for histograms).\n",
      "  warnings.warn(msg, FutureWarning)\n"
     ]
    },
    {
     "data": {
      "image/png": "[encoded data removed]",
      "text/plain": [
       "<Figure size 432x288 with 1 Axes>"
      ]
     },
     "metadata": {
      "needs_background": "light"
     },
     "output_type": "display_data"
    }
   ],
   "source": [
    "sns.distplot((y_test-predictionstree),bins=50);"
   ]
  },
  {
   "cell_type": "code",
   "execution_count": 37,
   "id": "72ba9443",
   "metadata": {},
   "outputs": [],
   "source": [
    "# Random Forest\n",
    "from sklearn.ensemble import RandomForestRegressor"
   ]
  },
  {
   "cell_type": "code",
   "execution_count": 38,
   "id": "ec046234",
   "metadata": {},
   "outputs": [],
   "source": [
    "rfg = RandomForestRegressor(n_estimators=500)"
   ]
  },
  {
   "cell_type": "code",
   "execution_count": 39,
   "id": "2f3601c1",
   "metadata": {},
   "outputs": [
    {
     "data": {
      "text/plain": [
       "RandomForestRegressor(n_estimators=500)"
      ]
     },
     "execution_count": 39,
     "metadata": {},
     "output_type": "execute_result"
    }
   ],
   "source": [
    "rfg.fit(X_train,y_train)"
   ]
  },
  {
   "cell_type": "code",
   "execution_count": 40,
   "id": "2102e275",
   "metadata": {},
   "outputs": [],
   "source": [
    "predictionsrfg = rfg.predict(X_test)"
   ]
  },
  {
   "cell_type": "code",
   "execution_count": 41,
   "id": "f423a639",
   "metadata": {},
   "outputs": [
    {
     "data": {
      "text/plain": [
       "Text(0, 0.5, 'Predicted Y')"
      ]
     },
     "execution_count": 41,
     "metadata": {},
     "output_type": "execute_result"
    },
    {
     "data": {
      "image/png": "[encoded data removed]",
      "text/plain": [
       "<Figure size 432x288 with 1 Axes>"
      ]
     },
     "metadata": {
      "needs_background": "light"
     },
     "output_type": "display_data"
    }
   ],
   "source": [
    "plt.scatter(y_test,predictionsrfg)\n",
    "plt.xlabel('Y Test')\n",
    "plt.ylabel('Predicted Y')"
   ]
  },
  {
   "cell_type": "code",
   "execution_count": 42,
   "id": "d291c638",
   "metadata": {},
   "outputs": [
    {
     "name": "stdout",
     "output_type": "stream",
     "text": [
      "MAE: 2764.649277934747\n",
      "MSE: 25366769.469768267\n",
      "RMSE: 5036.543404932421\n",
      "EVS: 0.8205743552634377\n"
     ]
    }
   ],
   "source": [
    "print('MAE:', metrics.mean_absolute_error(y_test, predictionsrfg))\n",
    "print('MSE:', metrics.mean_squared_error(y_test, predictionsrfg))\n",
    "print('RMSE:', np.sqrt(metrics.mean_squared_error(y_test, predictionsrfg)))\n",
    "print('EVS:',  metrics.r2_score(y_test, predictionsrfg))"
   ]
  },
  {
   "cell_type": "code",
   "execution_count": 43,
   "id": "5531ed8d",
   "metadata": {},
   "outputs": [
    {
     "name": "stderr",
     "output_type": "stream",
     "text": [
      "C:\\Users\\harry\\anaconda3\\lib\\site-packages\\seaborn\\distributions.py:2557: FutureWarning: `distplot` is a deprecated function and will be removed in a future version. Please adapt your code to use either `displot` (a figure-level function with similar flexibility) or `histplot` (an axes-level function for histograms).\n",
      "  warnings.warn(msg, FutureWarning)\n"
     ]
    },
    {
     "data": {
      "image/png": "[encoded data removed]",
      "text/plain": [
       "<Figure size 432x288 with 1 Axes>"
      ]
     },
     "metadata": {
      "needs_background": "light"
     },
     "output_type": "display_data"
    }
   ],
   "source": [
    "sns.distplot((y_test-predictionsrfg),bins=50);"
   ]
  },
  {
   "cell_type": "code",
   "execution_count": 44,
   "id": "83c7858b",
   "metadata": {},
   "outputs": [],
   "source": [
    "# Support Vector Regressor\n",
    "from sklearn.svm import SVR"
   ]
  },
  {
   "cell_type": "code",
   "execution_count": 45,
   "id": "e3e0f519",
   "metadata": {},
   "outputs": [],
   "source": [
    "svr_model = SVR()"
   ]
  },
  {
   "cell_type": "code",
   "execution_count": 46,
   "id": "97bc1049",
   "metadata": {},
   "outputs": [
    {
     "data": {
      "text/plain": [
       "SVR()"
      ]
     },
     "execution_count": 46,
     "metadata": {},
     "output_type": "execute_result"
    }
   ],
   "source": [
    "svr_model.fit(X_train,y_train)"
   ]
  },
  {
   "cell_type": "code",
   "execution_count": 47,
   "id": "d0fab512",
   "metadata": {},
   "outputs": [],
   "source": [
    "predictionsSVR = svr_model.predict(X_test)"
   ]
  },
  {
   "cell_type": "code",
   "execution_count": 48,
   "id": "1491bedc",
   "metadata": {},
   "outputs": [
    {
     "data": {
      "text/plain": [
       "Text(0, 0.5, 'Predicted Y')"
      ]
     },
     "execution_count": 48,
     "metadata": {},
     "output_type": "execute_result"
    },
    {
     "data": {
      "image/png": "[encoded data removed]",
      "text/plain": [
       "<Figure size 432x288 with 1 Axes>"
      ]
     },
     "metadata": {
      "needs_background": "light"
     },
     "output_type": "display_data"
    }
   ],
   "source": [
    "plt.scatter(y_test,predictionsSVR)\n",
    "plt.xlabel('Y Test')\n",
    "plt.ylabel('Predicted Y')"
   ]
  },
  {
   "cell_type": "code",
   "execution_count": 49,
   "id": "30e07394",
   "metadata": {},
   "outputs": [
    {
     "name": "stdout",
     "output_type": "stream",
     "text": [
      "MAE: 8198.746818305019\n",
      "MSE: 148225130.8965592\n",
      "RMSE: 12174.774367377788\n",
      "EVS: -0.048434240275351925\n"
     ]
    }
   ],
   "source": [
    "print('MAE:', metrics.mean_absolute_error(y_test, predictionsSVR))\n",
    "print('MSE:', metrics.mean_squared_error(y_test, predictionsSVR))\n",
    "print('RMSE:', np.sqrt(metrics.mean_squared_error(y_test, predictionsSVR)))\n",
    "print('EVS:',  metrics.r2_score(y_test, predictionsSVR))"
   ]
  },
  {
   "cell_type": "code",
   "execution_count": 50,
   "id": "9f7b183e",
   "metadata": {},
   "outputs": [],
   "source": [
    "# We have negative R2 score which tells that SVR is a really wrong model"
   ]
  },
  {
   "cell_type": "code",
   "execution_count": 51,
   "id": "50fe736d",
   "metadata": {},
   "outputs": [],
   "source": [
    "#Gradient Booster Regression\n",
    "from sklearn.ensemble import GradientBoostingRegressor"
   ]
  },
  {
   "cell_type": "code",
   "execution_count": 52,
   "id": "2bf89376",
   "metadata": {},
   "outputs": [],
   "source": [
    "gbr = GradientBoostingRegressor(n_estimators=600)"
   ]
  },
  {
   "cell_type": "code",
   "execution_count": 53,
   "id": "ac61fe6e",
   "metadata": {},
   "outputs": [
    {
     "data": {
      "text/plain": [
       "GradientBoostingRegressor(n_estimators=600)"
      ]
     },
     "execution_count": 53,
     "metadata": {},
     "output_type": "execute_result"
    }
   ],
   "source": [
    "gbr.fit(X_train,y_train)"
   ]
  },
  {
   "cell_type": "code",
   "execution_count": 54,
   "id": "c2d95156",
   "metadata": {},
   "outputs": [],
   "source": [
    "predictionsgbr=gbr.predict(X_test)"
   ]
  },
  {
   "cell_type": "code",
   "execution_count": 55,
   "id": "474b0216",
   "metadata": {},
   "outputs": [
    {
     "data": {
      "text/plain": [
       "Text(0, 0.5, 'Predicted Y')"
      ]
     },
     "execution_count": 55,
     "metadata": {},
     "output_type": "execute_result"
    },
    {
     "data": {
      "image/png": "[encoded data removed]",
      "text/plain": [
       "<Figure size 432x288 with 1 Axes>"
      ]
     },
     "metadata": {
      "needs_background": "light"
     },
     "output_type": "display_data"
    }
   ],
   "source": [
    "plt.scatter(y_test,predictionsgbr)\n",
    "plt.xlabel('Y Test')\n",
    "plt.ylabel('Predicted Y')"
   ]
  },
  {
   "cell_type": "code",
   "execution_count": 56,
   "id": "faca0f06",
   "metadata": {},
   "outputs": [
    {
     "name": "stdout",
     "output_type": "stream",
     "text": [
      "MAE: 2977.2601704946683\n",
      "MSE: 28213237.540674035\n",
      "RMSE: 5311.613459267724\n",
      "EVS: 0.8004405589811406\n"
     ]
    }
   ],
   "source": [
    "print('MAE:', metrics.mean_absolute_error(y_test, predictionsgbr))\n",
    "print('MSE:', metrics.mean_squared_error(y_test, predictionsgbr))\n",
    "print('RMSE:', np.sqrt(metrics.mean_squared_error(y_test, predictionsgbr)))\n",
    "print('EVS:',  metrics.r2_score(y_test, predictionsgbr))"
   ]
  },
  {
   "cell_type": "code",
   "execution_count": 57,
   "id": "5cac86f2",
   "metadata": {},
   "outputs": [
    {
     "name": "stderr",
     "output_type": "stream",
     "text": [
      "C:\\Users\\harry\\anaconda3\\lib\\site-packages\\seaborn\\distributions.py:2557: FutureWarning: `distplot` is a deprecated function and will be removed in a future version. Please adapt your code to use either `displot` (a figure-level function with similar flexibility) or `histplot` (an axes-level function for histograms).\n",
      "  warnings.warn(msg, FutureWarning)\n"
     ]
    },
    {
     "data": {
      "image/png": "[encoded data removed]",
      "text/plain": [
       "<Figure size 432x288 with 1 Axes>"
      ]
     },
     "metadata": {
      "needs_background": "light"
     },
     "output_type": "display_data"
    }
   ],
   "source": [
    "sns.distplot((y_test-predictionsgbr),bins=50);"
   ]
  },
  {
   "cell_type": "code",
   "execution_count": 58,
   "id": "dd48ac9e",
   "metadata": {},
   "outputs": [],
   "source": [
    "from sklearn.linear_model import Lasso"
   ]
  },
  {
   "cell_type": "code",
   "execution_count": 59,
   "id": "5ac3274d",
   "metadata": {},
   "outputs": [],
   "source": [
    "las=Lasso()"
   ]
  },
  {
   "cell_type": "code",
   "execution_count": 60,
   "id": "3bfc52cc",
   "metadata": {},
   "outputs": [
    {
     "data": {
      "text/plain": [
       "Lasso()"
      ]
     },
     "execution_count": 60,
     "metadata": {},
     "output_type": "execute_result"
    }
   ],
   "source": [
    "las.fit(X_train,y_train\n",
    "    )"
   ]
  },
  {
   "cell_type": "code",
   "execution_count": 61,
   "id": "a1959953",
   "metadata": {},
   "outputs": [],
   "source": [
    "predictionslas=las.predict(X_test)"
   ]
  },
  {
   "cell_type": "code",
   "execution_count": 62,
   "id": "d2e27328",
   "metadata": {},
   "outputs": [
    {
     "data": {
      "text/plain": [
       "Text(0, 0.5, 'Predicted Y')"
      ]
     },
     "execution_count": 62,
     "metadata": {},
     "output_type": "execute_result"
    },
    {
     "data": {
      "image/png": "[encoded data removed]",
      "text/plain": [
       "<Figure size 432x288 with 1 Axes>"
      ]
     },
     "metadata": {
      "needs_background": "light"
     },
     "output_type": "display_data"
    }
   ],
   "source": [
    "plt.scatter(y_test,predictionslas)\n",
    "plt.xlabel('Y Test')\n",
    "plt.ylabel('Predicted Y')"
   ]
  },
  {
   "cell_type": "code",
   "execution_count": 63,
   "id": "abc73100",
   "metadata": {},
   "outputs": [
    {
     "name": "stdout",
     "output_type": "stream",
     "text": [
      "MAE: 4044.285096669963\n",
      "MSE: 35989058.317964405\n",
      "RMSE: 5999.088123870528\n",
      "EVS: 0.7454401909609227\n"
     ]
    }
   ],
   "source": [
    "print('MAE:', metrics.mean_absolute_error(y_test, predictionslas))\n",
    "print('MSE:', metrics.mean_squared_error(y_test, predictionslas))\n",
    "print('RMSE:', np.sqrt(metrics.mean_squared_error(y_test, predictionslas)))\n",
    "print('EVS:',  metrics.r2_score(y_test, predictionslas))"
   ]
  },
  {
   "cell_type": "code",
   "execution_count": 64,
   "id": "a2eb23ae",
   "metadata": {},
   "outputs": [
    {
     "name": "stderr",
     "output_type": "stream",
     "text": [
      "C:\\Users\\harry\\anaconda3\\lib\\site-packages\\seaborn\\distributions.py:2557: FutureWarning: `distplot` is a deprecated function and will be removed in a future version. Please adapt your code to use either `displot` (a figure-level function with similar flexibility) or `histplot` (an axes-level function for histograms).\n",
      "  warnings.warn(msg, FutureWarning)\n"
     ]
    },
    {
     "data": {
      "image/png": "[encoded data removed]",
      "text/plain": [
       "<Figure size 432x288 with 1 Axes>"
      ]
     },
     "metadata": {
      "needs_background": "light"
     },
     "output_type": "display_data"
    }
   ],
   "source": [
    "# Similar results with the Linear Regression Model\n",
    "sns.distplot((y_test-predictionsgbr),bins=50);"
   ]
  },
  {
   "cell_type": "code",
   "execution_count": 65,
   "id": "56c797b9",
   "metadata": {},
   "outputs": [],
   "source": [
    "# ANN\n",
    "from tensorflow.keras.models import Sequential\n",
    "from tensorflow.keras.layers import Dense, Activation\n",
    "from tensorflow.keras.optimizers import Adam"
   ]
  },
  {
   "cell_type": "code",
   "execution_count": 66,
   "id": "8f209cb4",
   "metadata": {},
   "outputs": [],
   "source": [
    "model = Sequential()\n",
    "\n",
    "model.add(Dense(8,activation='relu'))\n",
    "model.add(Dense(8,activation='relu'))\n",
    "model.add(Dense(8,activation='relu'))\n",
    "model.add(Dense(8,activation='relu'))\n",
    "model.add(Dense(8,activation='relu'))\n",
    "model.add(Dense(1))\n",
    "\n",
    "model.compile(optimizer='adam',loss='mse')"
   ]
  },
  {
   "cell_type": "code",
   "execution_count": 67,
   "id": "4ac7b191",
   "metadata": {},
   "outputs": [
    {
     "name": "stdout",
     "output_type": "stream",
     "text": [
      "Epoch 1/500\n",
      "8/8 [==============================] - 1s 44ms/step - loss: 332366784.0000 - val_loss: 300019872.0000\n",
      "Epoch 2/500\n",
      "8/8 [==============================] - 0s 8ms/step - loss: 332365472.0000 - val_loss: 300018784.0000\n",
      "Epoch 3/500\n",
      "8/8 [==============================] - 0s 9ms/step - loss: 332364384.0000 - val_loss: 300017792.0000\n",
      "Epoch 4/500\n",
      "8/8 [==============================] - 0s 8ms/step - loss: 332363360.0000 - val_loss: 300016736.0000\n",
      "Epoch 5/500\n",
      "8/8 [==============================] - 0s 8ms/step - loss: 332362304.0000 - val_loss: 300015648.0000\n",
      "Epoch 6/500\n",
      "8/8 [==============================] - 0s 8ms/step - loss: 332361056.0000 - val_loss: 300014528.0000\n",
      "Epoch 7/500\n",
      "8/8 [==============================] - 0s 8ms/step - loss: 332359904.0000 - val_loss: 300013312.0000\n",
      "Epoch 8/500\n",
      "8/8 [==============================] - 0s 8ms/step - loss: 332358528.0000 - val_loss: 300011936.0000\n",
      "Epoch 9/500\n",
      "8/8 [==============================] - 0s 8ms/step - loss: 332356928.0000 - val_loss: 300010368.0000\n",
      "Epoch 10/500\n",
      "8/8 [==============================] - 0s 8ms/step - loss: 332355168.0000 - val_loss: 300008576.0000\n",
      "Epoch 11/500\n",
      "8/8 [==============================] - 0s 8ms/step - loss: 332353088.0000 - val_loss: 300006464.0000\n",
      "Epoch 12/500\n",
      "8/8 [==============================] - 0s 8ms/step - loss: 332350688.0000 - val_loss: 300004032.0000\n",
      "Epoch 13/500\n",
      "8/8 [==============================] - 0s 8ms/step - loss: 332347872.0000 - val_loss: 300001152.0000\n",
      "Epoch 14/500\n",
      "8/8 [==============================] - 0s 8ms/step - loss: 332344352.0000 - val_loss: 299997504.0000\n",
      "Epoch 15/500\n",
      "8/8 [==============================] - 0s 8ms/step - loss: 332339904.0000 - val_loss: 299992512.0000\n",
      "Epoch 16/500\n",
      "8/8 [==============================] - 0s 9ms/step - loss: 332333664.0000 - val_loss: 299985504.0000\n",
      "Epoch 17/500\n",
      "8/8 [==============================] - 0s 9ms/step - loss: 332324896.0000 - val_loss: 299975136.0000\n",
      "Epoch 18/500\n",
      "8/8 [==============================] - 0s 8ms/step - loss: 332311680.0000 - val_loss: 299960192.0000\n",
      "Epoch 19/500\n",
      "8/8 [==============================] - 0s 8ms/step - loss: 332292960.0000 - val_loss: 299938720.0000\n",
      "Epoch 20/500\n",
      "8/8 [==============================] - 0s 8ms/step - loss: 332266720.0000 - val_loss: 299908416.0000\n",
      "Epoch 21/500\n",
      "8/8 [==============================] - 0s 8ms/step - loss: 332228672.0000 - val_loss: 299865600.0000\n",
      "Epoch 22/500\n",
      "8/8 [==============================] - 0s 8ms/step - loss: 332175520.0000 - val_loss: 299806016.0000\n",
      "Epoch 23/500\n",
      "8/8 [==============================] - 0s 8ms/step - loss: 332101216.0000 - val_loss: 299723424.0000\n",
      "Epoch 24/500\n",
      "8/8 [==============================] - 0s 9ms/step - loss: 331999776.0000 - val_loss: 299610304.0000\n",
      "Epoch 25/500\n",
      "8/8 [==============================] - 0s 9ms/step - loss: 331862976.0000 - val_loss: 299457280.0000\n",
      "Epoch 26/500\n",
      "8/8 [==============================] - 0s 8ms/step - loss: 331678976.0000 - val_loss: 299255136.0000\n",
      "Epoch 27/500\n",
      "8/8 [==============================] - 0s 8ms/step - loss: 331431680.0000 - val_loss: 298990272.0000\n",
      "Epoch 28/500\n",
      "8/8 [==============================] - 0s 8ms/step - loss: 331116992.0000 - val_loss: 298644480.0000\n",
      "Epoch 29/500\n",
      "8/8 [==============================] - 0s 8ms/step - loss: 330703488.0000 - val_loss: 298199840.0000\n",
      "Epoch 30/500\n",
      "8/8 [==============================] - 0s 9ms/step - loss: 330173664.0000 - val_loss: 297629760.0000\n",
      "Epoch 31/500\n",
      "8/8 [==============================] - 0s 8ms/step - loss: 329498880.0000 - val_loss: 296896864.0000\n",
      "Epoch 32/500\n",
      "8/8 [==============================] - 0s 8ms/step - loss: 328613152.0000 - val_loss: 295978112.0000\n",
      "Epoch 33/500\n",
      "8/8 [==============================] - 0s 8ms/step - loss: 327550304.0000 - val_loss: 294808032.0000\n",
      "Epoch 34/500\n",
      "8/8 [==============================] - 0s 8ms/step - loss: 326181216.0000 - val_loss: 293354208.0000\n",
      "Epoch 35/500\n",
      "8/8 [==============================] - 0s 8ms/step - loss: 324494496.0000 - val_loss: 291553472.0000\n",
      "Epoch 36/500\n",
      "8/8 [==============================] - 0s 8ms/step - loss: 322380960.0000 - val_loss: 289361632.0000\n",
      "Epoch 37/500\n",
      "8/8 [==============================] - 0s 8ms/step - loss: 319820128.0000 - val_loss: 286685824.0000\n",
      "Epoch 38/500\n",
      "8/8 [==============================] - 0s 8ms/step - loss: 316747904.0000 - val_loss: 283444928.0000\n",
      "Epoch 39/500\n",
      "8/8 [==============================] - 0s 8ms/step - loss: 312965760.0000 - val_loss: 279641472.0000\n",
      "Epoch 40/500\n",
      "8/8 [==============================] - 0s 9ms/step - loss: 308628512.0000 - val_loss: 275081696.0000\n",
      "Epoch 41/500\n",
      "8/8 [==============================] - 0s 8ms/step - loss: 303337408.0000 - val_loss: 269777760.0000\n",
      "Epoch 42/500\n",
      "8/8 [==============================] - 0s 8ms/step - loss: 297282144.0000 - val_loss: 263676400.0000\n",
      "Epoch 43/500\n",
      "8/8 [==============================] - 0s 8ms/step - loss: 290341504.0000 - val_loss: 256678304.0000\n",
      "Epoch 44/500\n",
      "8/8 [==============================] - 0s 8ms/step - loss: 282357760.0000 - val_loss: 248784336.0000\n",
      "Epoch 45/500\n",
      "8/8 [==============================] - 0s 8ms/step - loss: 273351264.0000 - val_loss: 239876960.0000\n",
      "Epoch 46/500\n",
      "8/8 [==============================] - 0s 9ms/step - loss: 263183184.0000 - val_loss: 230099632.0000\n",
      "Epoch 47/500\n",
      "8/8 [==============================] - 0s 8ms/step - loss: 252284448.0000 - val_loss: 219359040.0000\n",
      "Epoch 48/500\n",
      "8/8 [==============================] - 0s 8ms/step - loss: 240229872.0000 - val_loss: 207902736.0000\n",
      "Epoch 49/500\n",
      "8/8 [==============================] - 0s 8ms/step - loss: 227268096.0000 - val_loss: 195989808.0000\n",
      "Epoch 50/500\n",
      "8/8 [==============================] - 0s 8ms/step - loss: 214037776.0000 - val_loss: 183635824.0000\n",
      "Epoch 51/500\n",
      "8/8 [==============================] - 0s 8ms/step - loss: 200277664.0000 - val_loss: 171390320.0000\n",
      "Epoch 52/500\n",
      "8/8 [==============================] - 0s 9ms/step - loss: 186782016.0000 - val_loss: 159350640.0000\n",
      "Epoch 53/500\n",
      "8/8 [==============================] - 0s 8ms/step - loss: 173215152.0000 - val_loss: 148046208.0000\n",
      "Epoch 54/500\n",
      "8/8 [==============================] - 0s 8ms/step - loss: 160577312.0000 - val_loss: 137697472.0000\n",
      "Epoch 55/500\n",
      "8/8 [==============================] - 0s 9ms/step - loss: 148865712.0000 - val_loss: 128802248.0000\n",
      "Epoch 56/500\n",
      "8/8 [==============================] - 0s 7ms/step - loss: 139043664.0000 - val_loss: 121584496.0000\n",
      "Epoch 57/500\n",
      "8/8 [==============================] - 0s 8ms/step - loss: 130815832.0000 - val_loss: 116242544.0000\n",
      "Epoch 58/500\n",
      "8/8 [==============================] - 0s 7ms/step - loss: 124815488.0000 - val_loss: 112510568.0000\n",
      "Epoch 59/500\n",
      "8/8 [==============================] - 0s 8ms/step - loss: 119972104.0000 - val_loss: 110205384.0000\n",
      "Epoch 60/500\n",
      "8/8 [==============================] - 0s 8ms/step - loss: 116772144.0000 - val_loss: 108799888.0000\n",
      "Epoch 61/500\n",
      "8/8 [==============================] - 0s 8ms/step - loss: 114478392.0000 - val_loss: 107906000.0000\n",
      "Epoch 62/500\n",
      "8/8 [==============================] - 0s 8ms/step - loss: 113036544.0000 - val_loss: 107314968.0000\n",
      "Epoch 63/500\n",
      "8/8 [==============================] - 0s 8ms/step - loss: 111845744.0000 - val_loss: 106799704.0000\n",
      "Epoch 64/500\n",
      "8/8 [==============================] - 0s 9ms/step - loss: 110851440.0000 - val_loss: 106172800.0000\n",
      "Epoch 65/500\n",
      "8/8 [==============================] - 0s 8ms/step - loss: 109974104.0000 - val_loss: 105465496.0000\n",
      "Epoch 66/500\n",
      "8/8 [==============================] - 0s 8ms/step - loss: 109104600.0000 - val_loss: 104699728.0000\n",
      "Epoch 67/500\n",
      "8/8 [==============================] - 0s 8ms/step - loss: 108305672.0000 - val_loss: 104010656.0000\n",
      "Epoch 68/500\n",
      "8/8 [==============================] - 0s 8ms/step - loss: 107420872.0000 - val_loss: 103217144.0000\n",
      "Epoch 69/500\n",
      "8/8 [==============================] - 0s 8ms/step - loss: 106586296.0000 - val_loss: 102365752.0000\n",
      "Epoch 70/500\n",
      "8/8 [==============================] - 0s 8ms/step - loss: 105777952.0000 - val_loss: 101569936.0000\n",
      "Epoch 71/500\n",
      "8/8 [==============================] - 0s 8ms/step - loss: 104939536.0000 - val_loss: 100765056.0000\n",
      "Epoch 72/500\n",
      "8/8 [==============================] - 0s 8ms/step - loss: 104030008.0000 - val_loss: 99921368.0000\n"
     ]
    },
    {
     "name": "stdout",
     "output_type": "stream",
     "text": [
      "Epoch 73/500\n",
      "8/8 [==============================] - 0s 9ms/step - loss: 103153032.0000 - val_loss: 99132552.0000\n",
      "Epoch 74/500\n",
      "8/8 [==============================] - 0s 8ms/step - loss: 102244888.0000 - val_loss: 98373960.0000\n",
      "Epoch 75/500\n",
      "8/8 [==============================] - 0s 8ms/step - loss: 101395712.0000 - val_loss: 97614992.0000\n",
      "Epoch 76/500\n",
      "8/8 [==============================] - 0s 8ms/step - loss: 100481752.0000 - val_loss: 96830376.0000\n",
      "Epoch 77/500\n",
      "8/8 [==============================] - 0s 8ms/step - loss: 99725184.0000 - val_loss: 96166936.0000\n",
      "Epoch 78/500\n",
      "8/8 [==============================] - 0s 8ms/step - loss: 98656824.0000 - val_loss: 95268592.0000\n",
      "Epoch 79/500\n",
      "8/8 [==============================] - 0s 8ms/step - loss: 97727792.0000 - val_loss: 94412344.0000\n",
      "Epoch 80/500\n",
      "8/8 [==============================] - 0s 8ms/step - loss: 96849712.0000 - val_loss: 93591544.0000\n",
      "Epoch 81/500\n",
      "8/8 [==============================] - 0s 8ms/step - loss: 95850512.0000 - val_loss: 92571088.0000\n",
      "Epoch 82/500\n",
      "8/8 [==============================] - 0s 8ms/step - loss: 94883544.0000 - val_loss: 91609312.0000\n",
      "Epoch 83/500\n",
      "8/8 [==============================] - 0s 8ms/step - loss: 93916224.0000 - val_loss: 90632752.0000\n",
      "Epoch 84/500\n",
      "8/8 [==============================] - 0s 8ms/step - loss: 92985008.0000 - val_loss: 89633664.0000\n",
      "Epoch 85/500\n",
      "8/8 [==============================] - 0s 8ms/step - loss: 92024256.0000 - val_loss: 88737240.0000\n",
      "Epoch 86/500\n",
      "8/8 [==============================] - 0s 8ms/step - loss: 91053896.0000 - val_loss: 87770352.0000\n",
      "Epoch 87/500\n",
      "8/8 [==============================] - 0s 9ms/step - loss: 90058312.0000 - val_loss: 86832376.0000\n",
      "Epoch 88/500\n",
      "8/8 [==============================] - 0s 8ms/step - loss: 89081560.0000 - val_loss: 85895768.0000\n",
      "Epoch 89/500\n",
      "8/8 [==============================] - 0s 9ms/step - loss: 88093544.0000 - val_loss: 84973648.0000\n",
      "Epoch 90/500\n",
      "8/8 [==============================] - 0s 9ms/step - loss: 87073080.0000 - val_loss: 83948184.0000\n",
      "Epoch 91/500\n",
      "8/8 [==============================] - 0s 8ms/step - loss: 85967984.0000 - val_loss: 83039176.0000\n",
      "Epoch 92/500\n",
      "8/8 [==============================] - 0s 9ms/step - loss: 84797552.0000 - val_loss: 82114272.0000\n",
      "Epoch 93/500\n",
      "8/8 [==============================] - 0s 9ms/step - loss: 83793112.0000 - val_loss: 81134856.0000\n",
      "Epoch 94/500\n",
      "8/8 [==============================] - 0s 8ms/step - loss: 82626776.0000 - val_loss: 80025288.0000\n",
      "Epoch 95/500\n",
      "8/8 [==============================] - 0s 8ms/step - loss: 81475280.0000 - val_loss: 78925448.0000\n",
      "Epoch 96/500\n",
      "8/8 [==============================] - 0s 8ms/step - loss: 80342720.0000 - val_loss: 77803744.0000\n",
      "Epoch 97/500\n",
      "8/8 [==============================] - 0s 9ms/step - loss: 79122064.0000 - val_loss: 76636504.0000\n",
      "Epoch 98/500\n",
      "8/8 [==============================] - 0s 8ms/step - loss: 77943632.0000 - val_loss: 75410064.0000\n",
      "Epoch 99/500\n",
      "8/8 [==============================] - 0s 8ms/step - loss: 76726424.0000 - val_loss: 74324424.0000\n",
      "Epoch 100/500\n",
      "8/8 [==============================] - 0s 8ms/step - loss: 75515624.0000 - val_loss: 73113128.0000\n",
      "Epoch 101/500\n",
      "8/8 [==============================] - 0s 8ms/step - loss: 74319200.0000 - val_loss: 71944400.0000\n",
      "Epoch 102/500\n",
      "8/8 [==============================] - 0s 8ms/step - loss: 73089856.0000 - val_loss: 70780864.0000\n",
      "Epoch 103/500\n",
      "8/8 [==============================] - 0s 8ms/step - loss: 71928624.0000 - val_loss: 69609680.0000\n",
      "Epoch 104/500\n",
      "8/8 [==============================] - 0s 8ms/step - loss: 70666440.0000 - val_loss: 68387104.0000\n",
      "Epoch 105/500\n",
      "8/8 [==============================] - 0s 9ms/step - loss: 69428160.0000 - val_loss: 67202568.0000\n",
      "Epoch 106/500\n",
      "8/8 [==============================] - 0s 8ms/step - loss: 68185896.0000 - val_loss: 65986816.0000\n",
      "Epoch 107/500\n",
      "8/8 [==============================] - 0s 8ms/step - loss: 66888628.0000 - val_loss: 64830036.0000\n",
      "Epoch 108/500\n",
      "8/8 [==============================] - 0s 8ms/step - loss: 65676804.0000 - val_loss: 63669924.0000\n",
      "Epoch 109/500\n",
      "8/8 [==============================] - 0s 9ms/step - loss: 64413648.0000 - val_loss: 62384196.0000\n",
      "Epoch 110/500\n",
      "8/8 [==============================] - 0s 7ms/step - loss: 63161284.0000 - val_loss: 61206080.0000\n",
      "Epoch 111/500\n",
      "8/8 [==============================] - 0s 8ms/step - loss: 61849732.0000 - val_loss: 59965180.0000\n",
      "Epoch 112/500\n",
      "8/8 [==============================] - 0s 9ms/step - loss: 60603336.0000 - val_loss: 58726276.0000\n",
      "Epoch 113/500\n",
      "8/8 [==============================] - 0s 9ms/step - loss: 59444440.0000 - val_loss: 57549408.0000\n",
      "Epoch 114/500\n",
      "8/8 [==============================] - 0s 8ms/step - loss: 58219008.0000 - val_loss: 56423020.0000\n",
      "Epoch 115/500\n",
      "8/8 [==============================] - 0s 8ms/step - loss: 57066340.0000 - val_loss: 55281296.0000\n",
      "Epoch 116/500\n",
      "8/8 [==============================] - 0s 8ms/step - loss: 55875488.0000 - val_loss: 54150268.0000\n",
      "Epoch 117/500\n",
      "8/8 [==============================] - 0s 8ms/step - loss: 54784148.0000 - val_loss: 53076068.0000\n",
      "Epoch 118/500\n",
      "8/8 [==============================] - 0s 8ms/step - loss: 53628940.0000 - val_loss: 52017004.0000\n",
      "Epoch 119/500\n",
      "8/8 [==============================] - 0s 8ms/step - loss: 52605632.0000 - val_loss: 50969624.0000\n",
      "Epoch 120/500\n",
      "8/8 [==============================] - 0s 8ms/step - loss: 51522612.0000 - val_loss: 49977320.0000\n",
      "Epoch 121/500\n",
      "8/8 [==============================] - 0s 8ms/step - loss: 50538480.0000 - val_loss: 49011968.0000\n",
      "Epoch 122/500\n",
      "8/8 [==============================] - 0s 8ms/step - loss: 49573244.0000 - val_loss: 48121164.0000\n",
      "Epoch 123/500\n",
      "8/8 [==============================] - 0s 8ms/step - loss: 48670572.0000 - val_loss: 47215148.0000\n",
      "Epoch 124/500\n",
      "8/8 [==============================] - 0s 9ms/step - loss: 47827848.0000 - val_loss: 46339456.0000\n",
      "Epoch 125/500\n",
      "8/8 [==============================] - 0s 9ms/step - loss: 46949124.0000 - val_loss: 45528480.0000\n",
      "Epoch 126/500\n",
      "8/8 [==============================] - 0s 9ms/step - loss: 46182124.0000 - val_loss: 44754424.0000\n",
      "Epoch 127/500\n",
      "8/8 [==============================] - 0s 9ms/step - loss: 45391900.0000 - val_loss: 44092336.0000\n",
      "Epoch 128/500\n",
      "8/8 [==============================] - 0s 7ms/step - loss: 44705564.0000 - val_loss: 43471456.0000\n",
      "Epoch 129/500\n",
      "8/8 [==============================] - 0s 8ms/step - loss: 44089296.0000 - val_loss: 42880124.0000\n",
      "Epoch 130/500\n",
      "8/8 [==============================] - 0s 8ms/step - loss: 43499692.0000 - val_loss: 42296072.0000\n",
      "Epoch 131/500\n",
      "8/8 [==============================] - 0s 8ms/step - loss: 42986944.0000 - val_loss: 41863984.0000\n",
      "Epoch 132/500\n",
      "8/8 [==============================] - 0s 8ms/step - loss: 42476204.0000 - val_loss: 41368536.0000\n",
      "Epoch 133/500\n",
      "8/8 [==============================] - 0s 8ms/step - loss: 42035032.0000 - val_loss: 40932836.0000\n",
      "Epoch 134/500\n",
      "8/8 [==============================] - 0s 9ms/step - loss: 41664280.0000 - val_loss: 40527864.0000\n",
      "Epoch 135/500\n",
      "8/8 [==============================] - 0s 9ms/step - loss: 41300660.0000 - val_loss: 40173052.0000\n",
      "Epoch 136/500\n",
      "8/8 [==============================] - 0s 10ms/step - loss: 40974332.0000 - val_loss: 39821768.0000\n",
      "Epoch 137/500\n",
      "8/8 [==============================] - 0s 10ms/step - loss: 40660872.0000 - val_loss: 39599472.0000\n",
      "Epoch 138/500\n",
      "8/8 [==============================] - 0s 9ms/step - loss: 40417472.0000 - val_loss: 39380080.0000\n",
      "Epoch 139/500\n",
      "8/8 [==============================] - 0s 9ms/step - loss: 40174444.0000 - val_loss: 39144960.0000\n",
      "Epoch 140/500\n",
      "8/8 [==============================] - 0s 9ms/step - loss: 39990664.0000 - val_loss: 38898584.0000\n",
      "Epoch 141/500\n",
      "8/8 [==============================] - 0s 8ms/step - loss: 39792704.0000 - val_loss: 38775556.0000\n",
      "Epoch 142/500\n",
      "8/8 [==============================] - 0s 9ms/step - loss: 39621524.0000 - val_loss: 38598416.0000\n",
      "Epoch 143/500\n",
      "8/8 [==============================] - 0s 9ms/step - loss: 39459136.0000 - val_loss: 38489688.0000\n",
      "Epoch 144/500\n",
      "8/8 [==============================] - 0s 8ms/step - loss: 39379596.0000 - val_loss: 38450760.0000\n",
      "Epoch 145/500\n"
     ]
    },
    {
     "name": "stdout",
     "output_type": "stream",
     "text": [
      "8/8 [==============================] - 0s 9ms/step - loss: 39266692.0000 - val_loss: 38166512.0000\n",
      "Epoch 146/500\n",
      "8/8 [==============================] - 0s 9ms/step - loss: 39117456.0000 - val_loss: 38061512.0000\n",
      "Epoch 147/500\n",
      "8/8 [==============================] - 0s 8ms/step - loss: 39036648.0000 - val_loss: 37926696.0000\n",
      "Epoch 148/500\n",
      "8/8 [==============================] - 0s 8ms/step - loss: 38944964.0000 - val_loss: 37844720.0000\n",
      "Epoch 149/500\n",
      "8/8 [==============================] - 0s 8ms/step - loss: 38885784.0000 - val_loss: 37848768.0000\n",
      "Epoch 150/500\n",
      "8/8 [==============================] - 0s 8ms/step - loss: 38818456.0000 - val_loss: 37681524.0000\n",
      "Epoch 151/500\n",
      "8/8 [==============================] - 0s 9ms/step - loss: 38739708.0000 - val_loss: 37618664.0000\n",
      "Epoch 152/500\n",
      "8/8 [==============================] - 0s 8ms/step - loss: 38672060.0000 - val_loss: 37652892.0000\n",
      "Epoch 153/500\n",
      "8/8 [==============================] - 0s 9ms/step - loss: 38597860.0000 - val_loss: 37508956.0000\n",
      "Epoch 154/500\n",
      "8/8 [==============================] - 0s 8ms/step - loss: 38565700.0000 - val_loss: 37407368.0000\n",
      "Epoch 155/500\n",
      "8/8 [==============================] - 0s 8ms/step - loss: 38600640.0000 - val_loss: 37278792.0000\n",
      "Epoch 156/500\n",
      "8/8 [==============================] - 0s 9ms/step - loss: 38467708.0000 - val_loss: 37321352.0000\n",
      "Epoch 157/500\n",
      "8/8 [==============================] - 0s 8ms/step - loss: 38410320.0000 - val_loss: 37380100.0000\n",
      "Epoch 158/500\n",
      "8/8 [==============================] - 0s 8ms/step - loss: 38386864.0000 - val_loss: 37368484.0000\n",
      "Epoch 159/500\n",
      "8/8 [==============================] - 0s 8ms/step - loss: 38370128.0000 - val_loss: 37346936.0000\n",
      "Epoch 160/500\n",
      "8/8 [==============================] - 0s 9ms/step - loss: 38334656.0000 - val_loss: 37145144.0000\n",
      "Epoch 161/500\n",
      "8/8 [==============================] - 0s 10ms/step - loss: 38286904.0000 - val_loss: 37157260.0000\n",
      "Epoch 162/500\n",
      "8/8 [==============================] - 0s 8ms/step - loss: 38256884.0000 - val_loss: 37037684.0000\n",
      "Epoch 163/500\n",
      "8/8 [==============================] - 0s 9ms/step - loss: 38226668.0000 - val_loss: 37084080.0000\n",
      "Epoch 164/500\n",
      "8/8 [==============================] - 0s 8ms/step - loss: 38186584.0000 - val_loss: 37058088.0000\n",
      "Epoch 165/500\n",
      "8/8 [==============================] - 0s 8ms/step - loss: 38188212.0000 - val_loss: 37114232.0000\n",
      "Epoch 166/500\n",
      "8/8 [==============================] - 0s 9ms/step - loss: 38128400.0000 - val_loss: 36969460.0000\n",
      "Epoch 167/500\n",
      "8/8 [==============================] - 0s 8ms/step - loss: 38099652.0000 - val_loss: 36863960.0000\n",
      "Epoch 168/500\n",
      "8/8 [==============================] - 0s 8ms/step - loss: 38072468.0000 - val_loss: 36812340.0000\n",
      "Epoch 169/500\n",
      "8/8 [==============================] - 0s 8ms/step - loss: 38044552.0000 - val_loss: 36806780.0000\n",
      "Epoch 170/500\n",
      "8/8 [==============================] - 0s 9ms/step - loss: 38021152.0000 - val_loss: 36892520.0000\n",
      "Epoch 171/500\n",
      "8/8 [==============================] - 0s 9ms/step - loss: 38030016.0000 - val_loss: 36934904.0000\n",
      "Epoch 172/500\n",
      "8/8 [==============================] - 0s 9ms/step - loss: 37992776.0000 - val_loss: 36876016.0000\n",
      "Epoch 173/500\n",
      "8/8 [==============================] - 0s 8ms/step - loss: 37979088.0000 - val_loss: 36796528.0000\n",
      "Epoch 174/500\n",
      "8/8 [==============================] - 0s 8ms/step - loss: 37931704.0000 - val_loss: 36750916.0000\n",
      "Epoch 175/500\n",
      "8/8 [==============================] - 0s 8ms/step - loss: 37922072.0000 - val_loss: 36696720.0000\n",
      "Epoch 176/500\n",
      "8/8 [==============================] - 0s 8ms/step - loss: 37883896.0000 - val_loss: 36658236.0000\n",
      "Epoch 177/500\n",
      "8/8 [==============================] - 0s 8ms/step - loss: 37866408.0000 - val_loss: 36636100.0000\n",
      "Epoch 178/500\n",
      "8/8 [==============================] - 0s 9ms/step - loss: 37846000.0000 - val_loss: 36606224.0000\n",
      "Epoch 179/500\n",
      "8/8 [==============================] - 0s 8ms/step - loss: 37881576.0000 - val_loss: 36495908.0000\n",
      "Epoch 180/500\n",
      "8/8 [==============================] - 0s 8ms/step - loss: 37821016.0000 - val_loss: 36596152.0000\n",
      "Epoch 181/500\n",
      "8/8 [==============================] - 0s 8ms/step - loss: 37785420.0000 - val_loss: 36566920.0000\n",
      "Epoch 182/500\n",
      "8/8 [==============================] - 0s 9ms/step - loss: 37772720.0000 - val_loss: 36519904.0000\n",
      "Epoch 183/500\n",
      "8/8 [==============================] - 0s 8ms/step - loss: 37757652.0000 - val_loss: 36477956.0000\n",
      "Epoch 184/500\n",
      "8/8 [==============================] - 0s 9ms/step - loss: 37775192.0000 - val_loss: 36393904.0000\n",
      "Epoch 185/500\n",
      "8/8 [==============================] - 0s 8ms/step - loss: 37736020.0000 - val_loss: 36431068.0000\n",
      "Epoch 186/500\n",
      "8/8 [==============================] - 0s 9ms/step - loss: 37716448.0000 - val_loss: 36437908.0000\n",
      "Epoch 187/500\n",
      "8/8 [==============================] - 0s 8ms/step - loss: 37694800.0000 - val_loss: 36351116.0000\n",
      "Epoch 188/500\n",
      "8/8 [==============================] - 0s 9ms/step - loss: 37684932.0000 - val_loss: 36331540.0000\n",
      "Epoch 189/500\n",
      "8/8 [==============================] - 0s 8ms/step - loss: 37637128.0000 - val_loss: 36405680.0000\n",
      "Epoch 190/500\n",
      "8/8 [==============================] - 0s 8ms/step - loss: 37667380.0000 - val_loss: 36551740.0000\n",
      "Epoch 191/500\n",
      "8/8 [==============================] - 0s 9ms/step - loss: 37660972.0000 - val_loss: 36561424.0000\n",
      "Epoch 192/500\n",
      "8/8 [==============================] - 0s 9ms/step - loss: 37659780.0000 - val_loss: 36498264.0000\n",
      "Epoch 193/500\n",
      "8/8 [==============================] - 0s 9ms/step - loss: 37617776.0000 - val_loss: 36361032.0000\n",
      "Epoch 194/500\n",
      "8/8 [==============================] - 0s 8ms/step - loss: 37699396.0000 - val_loss: 36141964.0000\n",
      "Epoch 195/500\n",
      "8/8 [==============================] - 0s 8ms/step - loss: 37600348.0000 - val_loss: 36154604.0000\n",
      "Epoch 196/500\n",
      "8/8 [==============================] - 0s 8ms/step - loss: 37547228.0000 - val_loss: 36260604.0000\n",
      "Epoch 197/500\n",
      "8/8 [==============================] - 0s 8ms/step - loss: 37534584.0000 - val_loss: 36285000.0000\n",
      "Epoch 198/500\n",
      "8/8 [==============================] - 0s 9ms/step - loss: 37533248.0000 - val_loss: 36268512.0000\n",
      "Epoch 199/500\n",
      "8/8 [==============================] - 0s 8ms/step - loss: 37536204.0000 - val_loss: 36269920.0000\n",
      "Epoch 200/500\n",
      "8/8 [==============================] - 0s 8ms/step - loss: 37584700.0000 - val_loss: 36106808.0000\n",
      "Epoch 201/500\n",
      "8/8 [==============================] - 0s 8ms/step - loss: 37509732.0000 - val_loss: 36120644.0000\n",
      "Epoch 202/500\n",
      "8/8 [==============================] - 0s 9ms/step - loss: 37544124.0000 - val_loss: 36220820.0000\n",
      "Epoch 203/500\n",
      "8/8 [==============================] - 0s 8ms/step - loss: 37477964.0000 - val_loss: 36167332.0000\n",
      "Epoch 204/500\n",
      "8/8 [==============================] - 0s 8ms/step - loss: 37505436.0000 - val_loss: 36214324.0000\n",
      "Epoch 205/500\n",
      "8/8 [==============================] - 0s 8ms/step - loss: 37455588.0000 - val_loss: 36142588.0000\n",
      "Epoch 206/500\n",
      "8/8 [==============================] - 0s 8ms/step - loss: 37439532.0000 - val_loss: 36098728.0000\n",
      "Epoch 207/500\n",
      "8/8 [==============================] - 0s 8ms/step - loss: 37428940.0000 - val_loss: 36140844.0000\n",
      "Epoch 208/500\n",
      "8/8 [==============================] - 0s 11ms/step - loss: 37418960.0000 - val_loss: 36122508.0000\n",
      "Epoch 209/500\n",
      "8/8 [==============================] - 0s 11ms/step - loss: 37386512.0000 - val_loss: 36071360.0000\n",
      "Epoch 210/500\n",
      "8/8 [==============================] - 0s 10ms/step - loss: 37409556.0000 - val_loss: 36052124.0000\n",
      "Epoch 211/500\n",
      "8/8 [==============================] - 0s 10ms/step - loss: 37385852.0000 - val_loss: 36137544.0000\n",
      "Epoch 212/500\n",
      "8/8 [==============================] - 0s 9ms/step - loss: 37366732.0000 - val_loss: 36148652.0000\n",
      "Epoch 213/500\n",
      "8/8 [==============================] - 0s 12ms/step - loss: 37350616.0000 - val_loss: 36130600.0000\n",
      "Epoch 214/500\n",
      "8/8 [==============================] - 0s 12ms/step - loss: 37337152.0000 - val_loss: 36086240.0000\n",
      "Epoch 215/500\n",
      "8/8 [==============================] - 0s 11ms/step - loss: 37318428.0000 - val_loss: 36017656.0000\n",
      "Epoch 216/500\n",
      "8/8 [==============================] - 0s 12ms/step - loss: 37356740.0000 - val_loss: 35981816.0000\n",
      "Epoch 217/500\n"
     ]
    },
    {
     "name": "stdout",
     "output_type": "stream",
     "text": [
      "8/8 [==============================] - 0s 11ms/step - loss: 37316896.0000 - val_loss: 36049936.0000\n",
      "Epoch 218/500\n",
      "8/8 [==============================] - 0s 10ms/step - loss: 37312616.0000 - val_loss: 36057836.0000\n",
      "Epoch 219/500\n",
      "8/8 [==============================] - 0s 10ms/step - loss: 37298204.0000 - val_loss: 36271680.0000\n",
      "Epoch 220/500\n",
      "8/8 [==============================] - 0s 10ms/step - loss: 37344148.0000 - val_loss: 36294700.0000\n",
      "Epoch 221/500\n",
      "8/8 [==============================] - 0s 9ms/step - loss: 37288372.0000 - val_loss: 36110408.0000\n",
      "Epoch 222/500\n",
      "8/8 [==============================] - 0s 8ms/step - loss: 37248084.0000 - val_loss: 35982004.0000\n",
      "Epoch 223/500\n",
      "8/8 [==============================] - 0s 9ms/step - loss: 37271224.0000 - val_loss: 35904804.0000\n",
      "Epoch 224/500\n",
      "8/8 [==============================] - 0s 9ms/step - loss: 37313492.0000 - val_loss: 35911620.0000\n",
      "Epoch 225/500\n",
      "8/8 [==============================] - 0s 8ms/step - loss: 37252640.0000 - val_loss: 36096616.0000\n",
      "Epoch 226/500\n",
      "8/8 [==============================] - 0s 8ms/step - loss: 37260648.0000 - val_loss: 36169092.0000\n",
      "Epoch 227/500\n",
      "8/8 [==============================] - 0s 8ms/step - loss: 37246836.0000 - val_loss: 36009552.0000\n",
      "Epoch 228/500\n",
      "8/8 [==============================] - 0s 8ms/step - loss: 37236800.0000 - val_loss: 36048768.0000\n",
      "Epoch 229/500\n",
      "8/8 [==============================] - 0s 8ms/step - loss: 37216276.0000 - val_loss: 36038388.0000\n",
      "Epoch 230/500\n",
      "8/8 [==============================] - 0s 9ms/step - loss: 37195808.0000 - val_loss: 35995384.0000\n",
      "Epoch 231/500\n",
      "8/8 [==============================] - 0s 11ms/step - loss: 37226384.0000 - val_loss: 35920108.0000\n",
      "Epoch 232/500\n",
      "8/8 [==============================] - 0s 10ms/step - loss: 37201436.0000 - val_loss: 35927480.0000\n",
      "Epoch 233/500\n",
      "8/8 [==============================] - 0s 9ms/step - loss: 37176020.0000 - val_loss: 35973460.0000\n",
      "Epoch 234/500\n",
      "8/8 [==============================] - 0s 8ms/step - loss: 37169976.0000 - val_loss: 36013644.0000\n",
      "Epoch 235/500\n",
      "8/8 [==============================] - 0s 8ms/step - loss: 37200072.0000 - val_loss: 35908048.0000\n",
      "Epoch 236/500\n",
      "8/8 [==============================] - 0s 8ms/step - loss: 37174500.0000 - val_loss: 36003492.0000\n",
      "Epoch 237/500\n",
      "8/8 [==============================] - 0s 8ms/step - loss: 37151192.0000 - val_loss: 35951836.0000\n",
      "Epoch 238/500\n",
      "8/8 [==============================] - 0s 8ms/step - loss: 37147992.0000 - val_loss: 35906580.0000\n",
      "Epoch 239/500\n",
      "8/8 [==============================] - 0s 8ms/step - loss: 37147972.0000 - val_loss: 35936088.0000\n",
      "Epoch 240/500\n",
      "8/8 [==============================] - 0s 8ms/step - loss: 37136716.0000 - val_loss: 36056796.0000\n",
      "Epoch 241/500\n",
      "8/8 [==============================] - 0s 8ms/step - loss: 37156228.0000 - val_loss: 35997040.0000\n",
      "Epoch 242/500\n",
      "8/8 [==============================] - 0s 8ms/step - loss: 37122932.0000 - val_loss: 35978764.0000\n",
      "Epoch 243/500\n",
      "8/8 [==============================] - 0s 8ms/step - loss: 37124628.0000 - val_loss: 35957008.0000\n",
      "Epoch 244/500\n",
      "8/8 [==============================] - 0s 9ms/step - loss: 37114700.0000 - val_loss: 35904772.0000\n",
      "Epoch 245/500\n",
      "8/8 [==============================] - 0s 9ms/step - loss: 37108424.0000 - val_loss: 35853024.0000\n",
      "Epoch 246/500\n",
      "8/8 [==============================] - 0s 9ms/step - loss: 37103244.0000 - val_loss: 35873572.0000\n",
      "Epoch 247/500\n",
      "8/8 [==============================] - 0s 9ms/step - loss: 37081660.0000 - val_loss: 35913832.0000\n",
      "Epoch 248/500\n",
      "8/8 [==============================] - 0s 9ms/step - loss: 37107252.0000 - val_loss: 35986936.0000\n",
      "Epoch 249/500\n",
      "8/8 [==============================] - 0s 9ms/step - loss: 37086708.0000 - val_loss: 35913156.0000\n",
      "Epoch 250/500\n",
      "8/8 [==============================] - 0s 9ms/step - loss: 37085584.0000 - val_loss: 35864952.0000\n",
      "Epoch 251/500\n",
      "8/8 [==============================] - 0s 9ms/step - loss: 37071028.0000 - val_loss: 35840832.0000\n",
      "Epoch 252/500\n",
      "8/8 [==============================] - 0s 9ms/step - loss: 37122920.0000 - val_loss: 35935760.0000\n",
      "Epoch 253/500\n",
      "8/8 [==============================] - 0s 8ms/step - loss: 37072556.0000 - val_loss: 35842948.0000\n",
      "Epoch 254/500\n",
      "8/8 [==============================] - 0s 8ms/step - loss: 37057548.0000 - val_loss: 35869028.0000\n",
      "Epoch 255/500\n",
      "8/8 [==============================] - 0s 9ms/step - loss: 37070208.0000 - val_loss: 35998052.0000\n",
      "Epoch 256/500\n",
      "8/8 [==============================] - 0s 9ms/step - loss: 37055536.0000 - val_loss: 35944940.0000\n",
      "Epoch 257/500\n",
      "8/8 [==============================] - 0s 9ms/step - loss: 37027700.0000 - val_loss: 35847516.0000\n",
      "Epoch 258/500\n",
      "8/8 [==============================] - 0s 8ms/step - loss: 37014600.0000 - val_loss: 35809604.0000\n",
      "Epoch 259/500\n",
      "8/8 [==============================] - 0s 8ms/step - loss: 37012592.0000 - val_loss: 35804172.0000\n",
      "Epoch 260/500\n",
      "8/8 [==============================] - 0s 9ms/step - loss: 37013380.0000 - val_loss: 35821724.0000\n",
      "Epoch 261/500\n",
      "8/8 [==============================] - 0s 8ms/step - loss: 37012748.0000 - val_loss: 35962560.0000\n",
      "Epoch 262/500\n",
      "8/8 [==============================] - 0s 10ms/step - loss: 37011424.0000 - val_loss: 36010524.0000\n",
      "Epoch 263/500\n",
      "8/8 [==============================] - 0s 8ms/step - loss: 37015092.0000 - val_loss: 35991404.0000\n",
      "Epoch 264/500\n",
      "8/8 [==============================] - 0s 10ms/step - loss: 37034364.0000 - val_loss: 35845852.0000\n",
      "Epoch 265/500\n",
      "8/8 [==============================] - 0s 9ms/step - loss: 36985628.0000 - val_loss: 35864532.0000\n",
      "Epoch 266/500\n",
      "8/8 [==============================] - 0s 9ms/step - loss: 37029000.0000 - val_loss: 35751116.0000\n",
      "Epoch 267/500\n",
      "8/8 [==============================] - 0s 8ms/step - loss: 36990928.0000 - val_loss: 35786036.0000\n",
      "Epoch 268/500\n",
      "8/8 [==============================] - 0s 8ms/step - loss: 37053120.0000 - val_loss: 35746932.0000\n",
      "Epoch 269/500\n",
      "8/8 [==============================] - 0s 9ms/step - loss: 36999292.0000 - val_loss: 35916280.0000\n",
      "Epoch 270/500\n",
      "8/8 [==============================] - 0s 8ms/step - loss: 36970696.0000 - val_loss: 35856144.0000\n",
      "Epoch 271/500\n",
      "8/8 [==============================] - 0s 9ms/step - loss: 36954480.0000 - val_loss: 35911564.0000\n",
      "Epoch 272/500\n",
      "8/8 [==============================] - 0s 8ms/step - loss: 36957244.0000 - val_loss: 35887904.0000\n",
      "Epoch 273/500\n",
      "8/8 [==============================] - 0s 8ms/step - loss: 36946696.0000 - val_loss: 35883800.0000\n",
      "Epoch 274/500\n",
      "8/8 [==============================] - 0s 8ms/step - loss: 36941384.0000 - val_loss: 35922976.0000\n",
      "Epoch 275/500\n",
      "8/8 [==============================] - 0s 8ms/step - loss: 36990000.0000 - val_loss: 36009764.0000\n",
      "Epoch 276/500\n",
      "8/8 [==============================] - 0s 9ms/step - loss: 36958592.0000 - val_loss: 35858416.0000\n",
      "Epoch 277/500\n",
      "8/8 [==============================] - 0s 8ms/step - loss: 36921168.0000 - val_loss: 35817756.0000\n",
      "Epoch 278/500\n",
      "8/8 [==============================] - 0s 8ms/step - loss: 36943380.0000 - val_loss: 35716648.0000\n",
      "Epoch 279/500\n",
      "8/8 [==============================] - 0s 9ms/step - loss: 36918544.0000 - val_loss: 35745892.0000\n",
      "Epoch 280/500\n",
      "8/8 [==============================] - 0s 9ms/step - loss: 36981352.0000 - val_loss: 35805776.0000\n",
      "Epoch 281/500\n",
      "8/8 [==============================] - 0s 8ms/step - loss: 36909476.0000 - val_loss: 35711216.0000\n",
      "Epoch 282/500\n",
      "8/8 [==============================] - 0s 8ms/step - loss: 36907120.0000 - val_loss: 35707956.0000\n",
      "Epoch 283/500\n",
      "8/8 [==============================] - 0s 8ms/step - loss: 36929912.0000 - val_loss: 35824936.0000\n",
      "Epoch 284/500\n",
      "8/8 [==============================] - 0s 8ms/step - loss: 36911064.0000 - val_loss: 35890432.0000\n",
      "Epoch 285/500\n",
      "8/8 [==============================] - 0s 8ms/step - loss: 36894892.0000 - val_loss: 35793388.0000\n",
      "Epoch 286/500\n",
      "8/8 [==============================] - 0s 8ms/step - loss: 36867272.0000 - val_loss: 35621312.0000\n",
      "Epoch 287/500\n",
      "8/8 [==============================] - 0s 8ms/step - loss: 36933500.0000 - val_loss: 35607400.0000\n",
      "Epoch 288/500\n",
      "8/8 [==============================] - 0s 8ms/step - loss: 36899836.0000 - val_loss: 35635324.0000\n",
      "Epoch 289/500\n"
     ]
    },
    {
     "name": "stdout",
     "output_type": "stream",
     "text": [
      "8/8 [==============================] - 0s 9ms/step - loss: 36892388.0000 - val_loss: 35731040.0000\n",
      "Epoch 290/500\n",
      "8/8 [==============================] - 0s 10ms/step - loss: 36864740.0000 - val_loss: 35696072.0000\n",
      "Epoch 291/500\n",
      "8/8 [==============================] - 0s 9ms/step - loss: 36866176.0000 - val_loss: 35681292.0000\n",
      "Epoch 292/500\n",
      "8/8 [==============================] - 0s 9ms/step - loss: 36868048.0000 - val_loss: 35810840.0000\n",
      "Epoch 293/500\n",
      "8/8 [==============================] - 0s 10ms/step - loss: 36868928.0000 - val_loss: 35825204.0000\n",
      "Epoch 294/500\n",
      "8/8 [==============================] - 0s 10ms/step - loss: 36866980.0000 - val_loss: 35860560.0000\n",
      "Epoch 295/500\n",
      "8/8 [==============================] - 0s 9ms/step - loss: 36867616.0000 - val_loss: 35817112.0000\n",
      "Epoch 296/500\n",
      "8/8 [==============================] - 0s 8ms/step - loss: 36854632.0000 - val_loss: 35650708.0000\n",
      "Epoch 297/500\n",
      "8/8 [==============================] - 0s 10ms/step - loss: 36838488.0000 - val_loss: 35652072.0000\n",
      "Epoch 298/500\n",
      "8/8 [==============================] - 0s 10ms/step - loss: 36835880.0000 - val_loss: 35699476.0000\n",
      "Epoch 299/500\n",
      "8/8 [==============================] - 0s 9ms/step - loss: 36812576.0000 - val_loss: 35762284.0000\n",
      "Epoch 300/500\n",
      "8/8 [==============================] - 0s 8ms/step - loss: 36822628.0000 - val_loss: 35845512.0000\n",
      "Epoch 301/500\n",
      "8/8 [==============================] - 0s 8ms/step - loss: 36849848.0000 - val_loss: 35815352.0000\n",
      "Epoch 302/500\n",
      "8/8 [==============================] - 0s 9ms/step - loss: 36828956.0000 - val_loss: 35736456.0000\n",
      "Epoch 303/500\n",
      "8/8 [==============================] - 0s 8ms/step - loss: 36822548.0000 - val_loss: 35690024.0000\n",
      "Epoch 304/500\n",
      "8/8 [==============================] - 0s 9ms/step - loss: 36819468.0000 - val_loss: 35598864.0000\n",
      "Epoch 305/500\n",
      "8/8 [==============================] - 0s 8ms/step - loss: 36821476.0000 - val_loss: 35615416.0000\n",
      "Epoch 306/500\n",
      "8/8 [==============================] - 0s 8ms/step - loss: 36813880.0000 - val_loss: 35702588.0000\n",
      "Epoch 307/500\n",
      "8/8 [==============================] - 0s 10ms/step - loss: 36838788.0000 - val_loss: 35593800.0000\n",
      "Epoch 308/500\n",
      "8/8 [==============================] - 0s 10ms/step - loss: 36831444.0000 - val_loss: 35580080.0000\n",
      "Epoch 309/500\n",
      "8/8 [==============================] - 0s 9ms/step - loss: 36791812.0000 - val_loss: 35678688.0000\n",
      "Epoch 310/500\n",
      "8/8 [==============================] - 0s 10ms/step - loss: 36862024.0000 - val_loss: 35810056.0000\n",
      "Epoch 311/500\n",
      "8/8 [==============================] - 0s 10ms/step - loss: 36807832.0000 - val_loss: 35599528.0000\n",
      "Epoch 312/500\n",
      "8/8 [==============================] - 0s 9ms/step - loss: 36779928.0000 - val_loss: 35546916.0000\n",
      "Epoch 313/500\n",
      "8/8 [==============================] - 0s 10ms/step - loss: 36816296.0000 - val_loss: 35524444.0000\n",
      "Epoch 314/500\n",
      "8/8 [==============================] - 0s 9ms/step - loss: 36845672.0000 - val_loss: 35675784.0000\n",
      "Epoch 315/500\n",
      "8/8 [==============================] - 0s 9ms/step - loss: 36805664.0000 - val_loss: 35705824.0000\n",
      "Epoch 316/500\n",
      "8/8 [==============================] - 0s 8ms/step - loss: 36815096.0000 - val_loss: 35557344.0000\n",
      "Epoch 317/500\n",
      "8/8 [==============================] - 0s 8ms/step - loss: 36782492.0000 - val_loss: 35644320.0000\n",
      "Epoch 318/500\n",
      "8/8 [==============================] - 0s 8ms/step - loss: 36771228.0000 - val_loss: 35603208.0000\n",
      "Epoch 319/500\n",
      "8/8 [==============================] - 0s 8ms/step - loss: 36770640.0000 - val_loss: 35641416.0000\n",
      "Epoch 320/500\n",
      "8/8 [==============================] - 0s 9ms/step - loss: 36763496.0000 - val_loss: 35632804.0000\n",
      "Epoch 321/500\n",
      "8/8 [==============================] - 0s 9ms/step - loss: 36752388.0000 - val_loss: 35662584.0000\n",
      "Epoch 322/500\n",
      "8/8 [==============================] - 0s 9ms/step - loss: 36748244.0000 - val_loss: 35718768.0000\n",
      "Epoch 323/500\n",
      "8/8 [==============================] - 0s 8ms/step - loss: 36746620.0000 - val_loss: 35722768.0000\n",
      "Epoch 324/500\n",
      "8/8 [==============================] - 0s 9ms/step - loss: 36759600.0000 - val_loss: 35660908.0000\n",
      "Epoch 325/500\n",
      "8/8 [==============================] - 0s 9ms/step - loss: 36744236.0000 - val_loss: 35603900.0000\n",
      "Epoch 326/500\n",
      "8/8 [==============================] - 0s 8ms/step - loss: 36752144.0000 - val_loss: 35668308.0000\n",
      "Epoch 327/500\n",
      "8/8 [==============================] - 0s 8ms/step - loss: 36751500.0000 - val_loss: 35699912.0000\n",
      "Epoch 328/500\n",
      "8/8 [==============================] - 0s 8ms/step - loss: 36727232.0000 - val_loss: 35611268.0000\n",
      "Epoch 329/500\n",
      "8/8 [==============================] - 0s 8ms/step - loss: 36724976.0000 - val_loss: 35587084.0000\n",
      "Epoch 330/500\n",
      "8/8 [==============================] - 0s 8ms/step - loss: 36741620.0000 - val_loss: 35545876.0000\n",
      "Epoch 331/500\n",
      "8/8 [==============================] - 0s 8ms/step - loss: 36752372.0000 - val_loss: 35668212.0000\n",
      "Epoch 332/500\n",
      "8/8 [==============================] - 0s 10ms/step - loss: 36730184.0000 - val_loss: 35677132.0000\n",
      "Epoch 333/500\n",
      "8/8 [==============================] - 0s 8ms/step - loss: 36770720.0000 - val_loss: 35562296.0000\n",
      "Epoch 334/500\n",
      "8/8 [==============================] - 0s 8ms/step - loss: 36718332.0000 - val_loss: 35593448.0000\n",
      "Epoch 335/500\n",
      "8/8 [==============================] - 0s 8ms/step - loss: 36710624.0000 - val_loss: 35601808.0000\n",
      "Epoch 336/500\n",
      "8/8 [==============================] - 0s 8ms/step - loss: 36736240.0000 - val_loss: 35697032.0000\n",
      "Epoch 337/500\n",
      "8/8 [==============================] - 0s 9ms/step - loss: 36705272.0000 - val_loss: 35604624.0000\n",
      "Epoch 338/500\n",
      "8/8 [==============================] - 0s 8ms/step - loss: 36742660.0000 - val_loss: 35544352.0000\n",
      "Epoch 339/500\n",
      "8/8 [==============================] - 0s 9ms/step - loss: 36690472.0000 - val_loss: 35732576.0000\n",
      "Epoch 340/500\n",
      "8/8 [==============================] - 0s 8ms/step - loss: 36731672.0000 - val_loss: 35855844.0000\n",
      "Epoch 341/500\n",
      "8/8 [==============================] - 0s 8ms/step - loss: 36712320.0000 - val_loss: 35683412.0000\n",
      "Epoch 342/500\n",
      "8/8 [==============================] - 0s 8ms/step - loss: 36687876.0000 - val_loss: 35552512.0000\n",
      "Epoch 343/500\n",
      "8/8 [==============================] - 0s 8ms/step - loss: 36700700.0000 - val_loss: 35568384.0000\n",
      "Epoch 344/500\n",
      "8/8 [==============================] - 0s 9ms/step - loss: 36684024.0000 - val_loss: 35590328.0000\n",
      "Epoch 345/500\n",
      "8/8 [==============================] - 0s 9ms/step - loss: 36687612.0000 - val_loss: 35634264.0000\n",
      "Epoch 346/500\n",
      "8/8 [==============================] - 0s 9ms/step - loss: 36680144.0000 - val_loss: 35611488.0000\n",
      "Epoch 347/500\n",
      "8/8 [==============================] - 0s 8ms/step - loss: 36671896.0000 - val_loss: 35601376.0000\n",
      "Epoch 348/500\n",
      "8/8 [==============================] - 0s 8ms/step - loss: 36696368.0000 - val_loss: 35597440.0000\n",
      "Epoch 349/500\n",
      "8/8 [==============================] - 0s 9ms/step - loss: 36708684.0000 - val_loss: 35677648.0000\n",
      "Epoch 350/500\n",
      "8/8 [==============================] - 0s 9ms/step - loss: 36699792.0000 - val_loss: 35557248.0000\n",
      "Epoch 351/500\n",
      "8/8 [==============================] - 0s 9ms/step - loss: 36697696.0000 - val_loss: 35551360.0000\n",
      "Epoch 352/500\n",
      "8/8 [==============================] - 0s 8ms/step - loss: 36698248.0000 - val_loss: 35525176.0000\n",
      "Epoch 353/500\n",
      "8/8 [==============================] - 0s 14ms/step - loss: 36711476.0000 - val_loss: 35571848.0000\n",
      "Epoch 354/500\n",
      "8/8 [==============================] - 0s 8ms/step - loss: 36703052.0000 - val_loss: 35627376.0000\n",
      "Epoch 355/500\n",
      "8/8 [==============================] - 0s 8ms/step - loss: 36657380.0000 - val_loss: 35557204.0000\n",
      "Epoch 356/500\n",
      "8/8 [==============================] - 0s 9ms/step - loss: 36656820.0000 - val_loss: 35594268.0000\n",
      "Epoch 357/500\n",
      "8/8 [==============================] - 0s 8ms/step - loss: 36656744.0000 - val_loss: 35585484.0000\n",
      "Epoch 358/500\n",
      "8/8 [==============================] - 0s 8ms/step - loss: 36672128.0000 - val_loss: 35712108.0000\n",
      "Epoch 359/500\n",
      "8/8 [==============================] - 0s 8ms/step - loss: 36647376.0000 - val_loss: 35602456.0000\n",
      "Epoch 360/500\n",
      "8/8 [==============================] - 0s 8ms/step - loss: 36700348.0000 - val_loss: 35461104.0000\n",
      "Epoch 361/500\n"
     ]
    },
    {
     "name": "stdout",
     "output_type": "stream",
     "text": [
      "8/8 [==============================] - 0s 8ms/step - loss: 36674168.0000 - val_loss: 35520116.0000\n",
      "Epoch 362/500\n",
      "8/8 [==============================] - 0s 7ms/step - loss: 36667000.0000 - val_loss: 35681792.0000\n",
      "Epoch 363/500\n",
      "8/8 [==============================] - 0s 9ms/step - loss: 36677496.0000 - val_loss: 35701488.0000\n",
      "Epoch 364/500\n",
      "8/8 [==============================] - 0s 8ms/step - loss: 36640912.0000 - val_loss: 35659492.0000\n",
      "Epoch 365/500\n",
      "8/8 [==============================] - 0s 8ms/step - loss: 36632852.0000 - val_loss: 35633540.0000\n",
      "Epoch 366/500\n",
      "8/8 [==============================] - 0s 9ms/step - loss: 36653568.0000 - val_loss: 35545300.0000\n",
      "Epoch 367/500\n",
      "8/8 [==============================] - 0s 8ms/step - loss: 36636364.0000 - val_loss: 35601100.0000\n",
      "Epoch 368/500\n",
      "8/8 [==============================] - 0s 8ms/step - loss: 36654412.0000 - val_loss: 35678608.0000\n",
      "Epoch 369/500\n",
      "8/8 [==============================] - 0s 8ms/step - loss: 36610256.0000 - val_loss: 35588380.0000\n",
      "Epoch 370/500\n",
      "8/8 [==============================] - 0s 8ms/step - loss: 36627960.0000 - val_loss: 35506812.0000\n",
      "Epoch 371/500\n",
      "8/8 [==============================] - 0s 8ms/step - loss: 36641148.0000 - val_loss: 35536108.0000\n",
      "Epoch 372/500\n",
      "8/8 [==============================] - 0s 9ms/step - loss: 36595744.0000 - val_loss: 35648400.0000\n",
      "Epoch 373/500\n",
      "8/8 [==============================] - 0s 9ms/step - loss: 36625456.0000 - val_loss: 35766628.0000\n",
      "Epoch 374/500\n",
      "8/8 [==============================] - 0s 8ms/step - loss: 36624808.0000 - val_loss: 35650556.0000\n",
      "Epoch 375/500\n",
      "8/8 [==============================] - 0s 8ms/step - loss: 36604792.0000 - val_loss: 35597300.0000\n",
      "Epoch 376/500\n",
      "8/8 [==============================] - 0s 8ms/step - loss: 36627288.0000 - val_loss: 35546452.0000\n",
      "Epoch 377/500\n",
      "8/8 [==============================] - 0s 9ms/step - loss: 36628104.0000 - val_loss: 35711700.0000\n",
      "Epoch 378/500\n",
      "8/8 [==============================] - 0s 8ms/step - loss: 36630068.0000 - val_loss: 35678316.0000\n",
      "Epoch 379/500\n",
      "8/8 [==============================] - 0s 9ms/step - loss: 36608848.0000 - val_loss: 35630272.0000\n",
      "Epoch 380/500\n",
      "8/8 [==============================] - 0s 8ms/step - loss: 36618852.0000 - val_loss: 35551096.0000\n",
      "Epoch 381/500\n",
      "8/8 [==============================] - 0s 8ms/step - loss: 36592748.0000 - val_loss: 35589688.0000\n",
      "Epoch 382/500\n",
      "8/8 [==============================] - 0s 8ms/step - loss: 36626356.0000 - val_loss: 35679840.0000\n",
      "Epoch 383/500\n",
      "8/8 [==============================] - 0s 8ms/step - loss: 36622364.0000 - val_loss: 35565220.0000\n",
      "Epoch 384/500\n",
      "8/8 [==============================] - 0s 8ms/step - loss: 36589788.0000 - val_loss: 35470116.0000\n",
      "Epoch 385/500\n",
      "8/8 [==============================] - 0s 8ms/step - loss: 36627988.0000 - val_loss: 35558816.0000\n",
      "Epoch 386/500\n",
      "8/8 [==============================] - 0s 8ms/step - loss: 36583788.0000 - val_loss: 35666712.0000\n",
      "Epoch 387/500\n",
      "8/8 [==============================] - 0s 8ms/step - loss: 36615040.0000 - val_loss: 35641408.0000\n",
      "Epoch 388/500\n",
      "8/8 [==============================] - 0s 8ms/step - loss: 36585512.0000 - val_loss: 35532300.0000\n",
      "Epoch 389/500\n",
      "8/8 [==============================] - 0s 8ms/step - loss: 36593936.0000 - val_loss: 35475932.0000\n",
      "Epoch 390/500\n",
      "8/8 [==============================] - 0s 8ms/step - loss: 36616076.0000 - val_loss: 35587168.0000\n",
      "Epoch 391/500\n",
      "8/8 [==============================] - 0s 8ms/step - loss: 36581872.0000 - val_loss: 35625924.0000\n",
      "Epoch 392/500\n",
      "8/8 [==============================] - 0s 8ms/step - loss: 36590864.0000 - val_loss: 35527468.0000\n",
      "Epoch 393/500\n",
      "8/8 [==============================] - 0s 8ms/step - loss: 36572744.0000 - val_loss: 35511584.0000\n",
      "Epoch 394/500\n",
      "8/8 [==============================] - 0s 9ms/step - loss: 36566828.0000 - val_loss: 35545424.0000\n",
      "Epoch 395/500\n",
      "8/8 [==============================] - 0s 8ms/step - loss: 36562348.0000 - val_loss: 35547792.0000\n",
      "Epoch 396/500\n",
      "8/8 [==============================] - 0s 9ms/step - loss: 36589484.0000 - val_loss: 35625632.0000\n",
      "Epoch 397/500\n",
      "8/8 [==============================] - 0s 8ms/step - loss: 36577552.0000 - val_loss: 35577104.0000\n",
      "Epoch 398/500\n",
      "8/8 [==============================] - 0s 9ms/step - loss: 36562144.0000 - val_loss: 35702576.0000\n",
      "Epoch 399/500\n",
      "8/8 [==============================] - 0s 8ms/step - loss: 36583840.0000 - val_loss: 35689096.0000\n",
      "Epoch 400/500\n",
      "8/8 [==============================] - 0s 9ms/step - loss: 36553332.0000 - val_loss: 35531952.0000\n",
      "Epoch 401/500\n",
      "8/8 [==============================] - 0s 9ms/step - loss: 36550836.0000 - val_loss: 35478876.0000\n",
      "Epoch 402/500\n",
      "8/8 [==============================] - 0s 9ms/step - loss: 36575648.0000 - val_loss: 35515092.0000\n",
      "Epoch 403/500\n",
      "8/8 [==============================] - 0s 8ms/step - loss: 36571140.0000 - val_loss: 35546140.0000\n",
      "Epoch 404/500\n",
      "8/8 [==============================] - 0s 9ms/step - loss: 36608280.0000 - val_loss: 35513364.0000\n",
      "Epoch 405/500\n",
      "8/8 [==============================] - 0s 8ms/step - loss: 36638764.0000 - val_loss: 35695788.0000\n",
      "Epoch 406/500\n",
      "8/8 [==============================] - 0s 9ms/step - loss: 36566380.0000 - val_loss: 35622540.0000\n",
      "Epoch 407/500\n",
      "8/8 [==============================] - 0s 8ms/step - loss: 36540532.0000 - val_loss: 35644420.0000\n",
      "Epoch 408/500\n",
      "8/8 [==============================] - 0s 8ms/step - loss: 36527208.0000 - val_loss: 35580224.0000\n",
      "Epoch 409/500\n",
      "8/8 [==============================] - 0s 8ms/step - loss: 36526024.0000 - val_loss: 35509800.0000\n",
      "Epoch 410/500\n",
      "8/8 [==============================] - 0s 9ms/step - loss: 36542456.0000 - val_loss: 35522784.0000\n",
      "Epoch 411/500\n",
      "8/8 [==============================] - 0s 9ms/step - loss: 36501624.0000 - val_loss: 35523628.0000\n",
      "Epoch 412/500\n",
      "8/8 [==============================] - 0s 8ms/step - loss: 36529160.0000 - val_loss: 35578520.0000\n",
      "Epoch 413/500\n",
      "8/8 [==============================] - 0s 8ms/step - loss: 36453456.0000 - val_loss: 35488296.0000\n",
      "Epoch 414/500\n",
      "8/8 [==============================] - 0s 8ms/step - loss: 36450384.0000 - val_loss: 35400096.0000\n",
      "Epoch 415/500\n",
      "8/8 [==============================] - 0s 9ms/step - loss: 36447384.0000 - val_loss: 35407080.0000\n",
      "Epoch 416/500\n",
      "8/8 [==============================] - 0s 8ms/step - loss: 36439212.0000 - val_loss: 35431752.0000\n",
      "Epoch 417/500\n",
      "8/8 [==============================] - 0s 8ms/step - loss: 36417080.0000 - val_loss: 35475572.0000\n",
      "Epoch 418/500\n",
      "8/8 [==============================] - 0s 9ms/step - loss: 36408888.0000 - val_loss: 35493080.0000\n",
      "Epoch 419/500\n",
      "8/8 [==============================] - 0s 8ms/step - loss: 36404228.0000 - val_loss: 35507048.0000\n",
      "Epoch 420/500\n",
      "8/8 [==============================] - 0s 8ms/step - loss: 36386720.0000 - val_loss: 35439584.0000\n",
      "Epoch 421/500\n",
      "8/8 [==============================] - 0s 8ms/step - loss: 36383632.0000 - val_loss: 35366416.0000\n",
      "Epoch 422/500\n",
      "8/8 [==============================] - 0s 8ms/step - loss: 36371148.0000 - val_loss: 35368084.0000\n",
      "Epoch 423/500\n",
      "8/8 [==============================] - 0s 9ms/step - loss: 36364156.0000 - val_loss: 35366888.0000\n",
      "Epoch 424/500\n",
      "8/8 [==============================] - 0s 8ms/step - loss: 36351560.0000 - val_loss: 35365632.0000\n",
      "Epoch 425/500\n",
      "8/8 [==============================] - 0s 9ms/step - loss: 36381324.0000 - val_loss: 35436004.0000\n",
      "Epoch 426/500\n",
      "8/8 [==============================] - 0s 9ms/step - loss: 36331228.0000 - val_loss: 35389160.0000\n",
      "Epoch 427/500\n",
      "8/8 [==============================] - 0s 9ms/step - loss: 36317028.0000 - val_loss: 35347528.0000\n",
      "Epoch 428/500\n",
      "8/8 [==============================] - 0s 11ms/step - loss: 36306120.0000 - val_loss: 35337680.0000\n",
      "Epoch 429/500\n",
      "8/8 [==============================] - 0s 11ms/step - loss: 36314796.0000 - val_loss: 35408504.0000\n",
      "Epoch 430/500\n",
      "8/8 [==============================] - 0s 9ms/step - loss: 36306780.0000 - val_loss: 35380460.0000\n",
      "Epoch 431/500\n",
      "8/8 [==============================] - 0s 8ms/step - loss: 36270992.0000 - val_loss: 35398560.0000\n",
      "Epoch 432/500\n",
      "8/8 [==============================] - 0s 9ms/step - loss: 36255624.0000 - val_loss: 35340940.0000\n",
      "Epoch 433/500\n"
     ]
    },
    {
     "name": "stdout",
     "output_type": "stream",
     "text": [
      "8/8 [==============================] - 0s 9ms/step - loss: 36285724.0000 - val_loss: 35289676.0000\n",
      "Epoch 434/500\n",
      "8/8 [==============================] - 0s 8ms/step - loss: 36245824.0000 - val_loss: 35296528.0000\n",
      "Epoch 435/500\n",
      "8/8 [==============================] - 0s 8ms/step - loss: 36246432.0000 - val_loss: 35465828.0000\n",
      "Epoch 436/500\n",
      "8/8 [==============================] - 0s 8ms/step - loss: 36244992.0000 - val_loss: 35333516.0000\n",
      "Epoch 437/500\n",
      "8/8 [==============================] - 0s 8ms/step - loss: 36218596.0000 - val_loss: 35317300.0000\n",
      "Epoch 438/500\n",
      "8/8 [==============================] - 0s 8ms/step - loss: 36200808.0000 - val_loss: 35327692.0000\n",
      "Epoch 439/500\n",
      "8/8 [==============================] - 0s 8ms/step - loss: 36193672.0000 - val_loss: 35199060.0000\n",
      "Epoch 440/500\n",
      "8/8 [==============================] - 0s 8ms/step - loss: 36221396.0000 - val_loss: 35174136.0000\n",
      "Epoch 441/500\n",
      "8/8 [==============================] - 0s 8ms/step - loss: 36163200.0000 - val_loss: 35236104.0000\n",
      "Epoch 442/500\n",
      "8/8 [==============================] - 0s 8ms/step - loss: 36195624.0000 - val_loss: 35346116.0000\n",
      "Epoch 443/500\n",
      "8/8 [==============================] - 0s 8ms/step - loss: 36148660.0000 - val_loss: 35266312.0000\n",
      "Epoch 444/500\n",
      "8/8 [==============================] - 0s 8ms/step - loss: 36126956.0000 - val_loss: 35223352.0000\n",
      "Epoch 445/500\n",
      "8/8 [==============================] - 0s 8ms/step - loss: 36138340.0000 - val_loss: 35253428.0000\n",
      "Epoch 446/500\n",
      "8/8 [==============================] - 0s 8ms/step - loss: 36111072.0000 - val_loss: 35237372.0000\n",
      "Epoch 447/500\n",
      "8/8 [==============================] - 0s 7ms/step - loss: 36099664.0000 - val_loss: 35241432.0000\n",
      "Epoch 448/500\n",
      "8/8 [==============================] - 0s 8ms/step - loss: 36083640.0000 - val_loss: 35312608.0000\n",
      "Epoch 449/500\n",
      "8/8 [==============================] - 0s 9ms/step - loss: 36109668.0000 - val_loss: 35372420.0000\n",
      "Epoch 450/500\n",
      "8/8 [==============================] - 0s 8ms/step - loss: 36101764.0000 - val_loss: 35390216.0000\n",
      "Epoch 451/500\n",
      "8/8 [==============================] - 0s 9ms/step - loss: 36099036.0000 - val_loss: 35199708.0000\n",
      "Epoch 452/500\n",
      "8/8 [==============================] - 0s 8ms/step - loss: 36056040.0000 - val_loss: 35180344.0000\n",
      "Epoch 453/500\n",
      "8/8 [==============================] - 0s 9ms/step - loss: 36047544.0000 - val_loss: 35287720.0000\n",
      "Epoch 454/500\n",
      "8/8 [==============================] - 0s 9ms/step - loss: 36032504.0000 - val_loss: 35292316.0000\n",
      "Epoch 455/500\n",
      "8/8 [==============================] - 0s 8ms/step - loss: 36023500.0000 - val_loss: 35373828.0000\n",
      "Epoch 456/500\n",
      "8/8 [==============================] - 0s 8ms/step - loss: 36046028.0000 - val_loss: 35379124.0000\n",
      "Epoch 457/500\n",
      "8/8 [==============================] - 0s 8ms/step - loss: 35996204.0000 - val_loss: 35258844.0000\n",
      "Epoch 458/500\n",
      "8/8 [==============================] - 0s 9ms/step - loss: 35983008.0000 - val_loss: 35126164.0000\n",
      "Epoch 459/500\n",
      "8/8 [==============================] - 0s 8ms/step - loss: 35960672.0000 - val_loss: 35138160.0000\n",
      "Epoch 460/500\n",
      "8/8 [==============================] - 0s 8ms/step - loss: 35954512.0000 - val_loss: 35182720.0000\n",
      "Epoch 461/500\n",
      "8/8 [==============================] - 0s 8ms/step - loss: 35921136.0000 - val_loss: 35320376.0000\n",
      "Epoch 462/500\n",
      "8/8 [==============================] - 0s 8ms/step - loss: 35954444.0000 - val_loss: 35310252.0000\n",
      "Epoch 463/500\n",
      "8/8 [==============================] - 0s 8ms/step - loss: 35901600.0000 - val_loss: 35114248.0000\n",
      "Epoch 464/500\n",
      "8/8 [==============================] - 0s 8ms/step - loss: 35913264.0000 - val_loss: 35062576.0000\n",
      "Epoch 465/500\n",
      "8/8 [==============================] - 0s 9ms/step - loss: 35942040.0000 - val_loss: 35040036.0000\n",
      "Epoch 466/500\n",
      "8/8 [==============================] - 0s 8ms/step - loss: 36001948.0000 - val_loss: 35011932.0000\n",
      "Epoch 467/500\n",
      "8/8 [==============================] - 0s 9ms/step - loss: 35925304.0000 - val_loss: 35059276.0000\n",
      "Epoch 468/500\n",
      "8/8 [==============================] - 0s 8ms/step - loss: 35870512.0000 - val_loss: 35195428.0000\n",
      "Epoch 469/500\n",
      "8/8 [==============================] - 0s 8ms/step - loss: 35841056.0000 - val_loss: 35162068.0000\n",
      "Epoch 470/500\n",
      "8/8 [==============================] - 0s 8ms/step - loss: 35846332.0000 - val_loss: 35138192.0000\n",
      "Epoch 471/500\n",
      "8/8 [==============================] - 0s 9ms/step - loss: 35834728.0000 - val_loss: 35099916.0000\n",
      "Epoch 472/500\n",
      "8/8 [==============================] - 0s 9ms/step - loss: 35921600.0000 - val_loss: 35002412.0000\n",
      "Epoch 473/500\n",
      "8/8 [==============================] - 0s 8ms/step - loss: 35811548.0000 - val_loss: 35041204.0000\n",
      "Epoch 474/500\n",
      "8/8 [==============================] - 0s 8ms/step - loss: 35825352.0000 - val_loss: 35181236.0000\n",
      "Epoch 475/500\n",
      "8/8 [==============================] - 0s 8ms/step - loss: 35807452.0000 - val_loss: 35186000.0000\n",
      "Epoch 476/500\n",
      "8/8 [==============================] - 0s 8ms/step - loss: 35787736.0000 - val_loss: 35143304.0000\n",
      "Epoch 477/500\n",
      "8/8 [==============================] - 0s 9ms/step - loss: 35772796.0000 - val_loss: 35176880.0000\n",
      "Epoch 478/500\n",
      "8/8 [==============================] - 0s 8ms/step - loss: 35805504.0000 - val_loss: 35150988.0000\n",
      "Epoch 479/500\n",
      "8/8 [==============================] - 0s 8ms/step - loss: 35736248.0000 - val_loss: 34932452.0000\n",
      "Epoch 480/500\n",
      "8/8 [==============================] - 0s 8ms/step - loss: 35810468.0000 - val_loss: 34917680.0000\n",
      "Epoch 481/500\n",
      "8/8 [==============================] - 0s 8ms/step - loss: 35777520.0000 - val_loss: 35001136.0000\n",
      "Epoch 482/500\n",
      "8/8 [==============================] - 0s 9ms/step - loss: 35711796.0000 - val_loss: 35119052.0000\n",
      "Epoch 483/500\n",
      "8/8 [==============================] - 0s 8ms/step - loss: 35704812.0000 - val_loss: 35145844.0000\n",
      "Epoch 484/500\n",
      "8/8 [==============================] - 0s 8ms/step - loss: 35710592.0000 - val_loss: 35168000.0000\n",
      "Epoch 485/500\n",
      "8/8 [==============================] - 0s 8ms/step - loss: 35686796.0000 - val_loss: 35080632.0000\n",
      "Epoch 486/500\n",
      "8/8 [==============================] - 0s 8ms/step - loss: 35674496.0000 - val_loss: 35035552.0000\n",
      "Epoch 487/500\n",
      "8/8 [==============================] - 0s 8ms/step - loss: 35681084.0000 - val_loss: 35048116.0000\n",
      "Epoch 488/500\n",
      "8/8 [==============================] - 0s 9ms/step - loss: 35675596.0000 - val_loss: 35147268.0000\n",
      "Epoch 489/500\n",
      "8/8 [==============================] - 0s 9ms/step - loss: 35668496.0000 - val_loss: 35061792.0000\n",
      "Epoch 490/500\n",
      "8/8 [==============================] - 0s 8ms/step - loss: 35718340.0000 - val_loss: 34960976.0000\n",
      "Epoch 491/500\n",
      "8/8 [==============================] - 0s 8ms/step - loss: 35607232.0000 - val_loss: 35078436.0000\n",
      "Epoch 492/500\n",
      "8/8 [==============================] - 0s 8ms/step - loss: 35642096.0000 - val_loss: 35235368.0000\n",
      "Epoch 493/500\n",
      "8/8 [==============================] - 0s 9ms/step - loss: 35623384.0000 - val_loss: 35072496.0000\n",
      "Epoch 494/500\n",
      "8/8 [==============================] - 0s 8ms/step - loss: 35584096.0000 - val_loss: 34928852.0000\n",
      "Epoch 495/500\n",
      "8/8 [==============================] - 0s 8ms/step - loss: 35610100.0000 - val_loss: 34928040.0000\n",
      "Epoch 496/500\n",
      "8/8 [==============================] - 0s 8ms/step - loss: 35595536.0000 - val_loss: 34958812.0000\n",
      "Epoch 497/500\n",
      "8/8 [==============================] - 0s 9ms/step - loss: 35580556.0000 - val_loss: 35014172.0000\n",
      "Epoch 498/500\n",
      "8/8 [==============================] - 0s 9ms/step - loss: 35572132.0000 - val_loss: 35012336.0000\n",
      "Epoch 499/500\n",
      "8/8 [==============================] - 0s 8ms/step - loss: 35579316.0000 - val_loss: 34927936.0000\n",
      "Epoch 500/500\n",
      "8/8 [==============================] - 0s 8ms/step - loss: 35566988.0000 - val_loss: 34879816.0000\n"
     ]
    },
    {
     "data": {
      "text/plain": [
       "<keras.callbacks.History at 0x204478a75e0>"
      ]
     },
     "execution_count": 67,
     "metadata": {},
     "output_type": "execute_result"
    }
   ],
   "source": [
    "model.fit(x=X_train,y=y_train.values,\n",
    "          validation_data=(X_test,y_test.values),\n",
    "          batch_size=128,epochs=500)"
   ]
  },
  {
   "cell_type": "code",
   "execution_count": 68,
   "id": "a07d8e10",
   "metadata": {},
   "outputs": [
    {
     "data": {
      "text/plain": [
       "<AxesSubplot:>"
      ]
     },
     "execution_count": 68,
     "metadata": {},
     "output_type": "execute_result"
    },
    {
     "data": {
      "image/png": "[encoded data removed]",
      "text/plain": [
       "<Figure size 432x288 with 1 Axes>"
      ]
     },
     "metadata": {
      "needs_background": "light"
     },
     "output_type": "display_data"
    }
   ],
   "source": [
    "losses = pd.DataFrame(model.history.history)\n",
    "losses.plot()"
   ]
  },
  {
   "cell_type": "code",
   "execution_count": 69,
   "id": "2c0b137f",
   "metadata": {},
   "outputs": [],
   "source": [
    "predictions = model.predict(X_test)"
   ]
  },
  {
   "cell_type": "code",
   "execution_count": 70,
   "id": "c27b00f1",
   "metadata": {},
   "outputs": [
    {
     "name": "stdout",
     "output_type": "stream",
     "text": [
      "MAE: 3862.606583134426\n",
      "MSE: 34879813.171874546\n",
      "RMSE: 5905.913407075534\n",
      "EVS: 0.7532861654254785\n"
     ]
    }
   ],
   "source": [
    "print('MAE:', metrics.mean_absolute_error(y_test, predictions))\n",
    "print('MSE:', metrics.mean_squared_error(y_test, predictions))\n",
    "print('RMSE:', np.sqrt(metrics.mean_squared_error(y_test, predictions)))\n",
    "print('EVS:',  metrics.r2_score(y_test, predictions))"
   ]
  },
  {
   "cell_type": "code",
   "execution_count": 71,
   "id": "ba88d1a4",
   "metadata": {},
   "outputs": [],
   "source": [
    "# It seems that the best models are the RandomForestRegressor and the GradientBoosterRegressor"
   ]
  }
 ],
 "metadata": {
  "kernelspec": {
   "display_name": "Python 3",
   "language": "python",
   "name": "python3"
  },
  "language_info": {
   "codemirror_mode": {
    "name": "ipython",
    "version": 3
   },
   "file_extension": ".py",
   "mimetype": "text/x-python",
   "name": "python",
   "nbconvert_exporter": "python",
   "pygments_lexer": "ipython3",
   "version": "3.8.8"
  }
 },
 "nbformat": 4,
 "nbformat_minor": 5
}
